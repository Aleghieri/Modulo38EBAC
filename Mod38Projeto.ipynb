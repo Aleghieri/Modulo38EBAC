{
  "cells": [
    {
      "cell_type": "markdown",
      "metadata": {
        "id": "SgQletgF4sDE"
      },
      "source": [
        "![image.png](attachment:image.png)"
      ]
    },
    {
      "cell_type": "markdown",
      "metadata": {
        "id": "Fc0ulQpH4sDG"
      },
      "source": [
        "# Tarefa II\n",
        "\n",
        "Neste projeto, estamos construindo um credit scoring para cartão de crédito, em um desenho amostral com 15 safras, e utilizando 12 meses de performance.\n",
        "\n",
        "Carregue a base de dados ```credit_scoring.ftr```."
      ]
    },
    {
      "cell_type": "code",
      "execution_count": null,
      "metadata": {
        "colab": {
          "base_uri": "https://localhost:8080/",
          "height": 313
        },
        "id": "DKZNejRI4sDG",
        "outputId": "9cb1541a-1986-47c4-ecf5-187b971dd29d"
      },
      "outputs": [
        {
          "output_type": "execute_result",
          "data": {
            "text/plain": [
              "    data_ref  index sexo posse_de_veiculo posse_de_imovel  qtd_filhos  \\\n",
              "0 2015-01-01   5733    F                N               N           0   \n",
              "1 2015-01-01    727    F                S               S           0   \n",
              "2 2015-01-01   6374    F                N               N           2   \n",
              "3 2015-01-01   9566    F                N               N           0   \n",
              "4 2015-01-01   9502    F                S               N           0   \n",
              "\n",
              "    tipo_renda             educacao estado_civil tipo_residencia  idade  \\\n",
              "0   Empresário                Médio     Solteiro            Casa     43   \n",
              "1  Assalariado                Médio       Casado            Casa     35   \n",
              "2  Assalariado                Médio       Casado            Casa     31   \n",
              "3  Assalariado                Médio       Casado            Casa     54   \n",
              "4  Assalariado  Superior incompleto     Solteiro            Casa     31   \n",
              "\n",
              "   tempo_emprego  qt_pessoas_residencia     renda    mau  \n",
              "0       6.873973                    1.0   2515.39  False  \n",
              "1       4.526027                    2.0   3180.19  False  \n",
              "2       0.243836                    4.0   1582.29  False  \n",
              "3      12.772603                    2.0  13721.17  False  \n",
              "4       8.432877                    1.0   2891.08  False  "
            ],
            "text/html": [
              "\n",
              "  <div id=\"df-a8c165c8-0840-46eb-a34c-3985da318b28\" class=\"colab-df-container\">\n",
              "    <div>\n",
              "<style scoped>\n",
              "    .dataframe tbody tr th:only-of-type {\n",
              "        vertical-align: middle;\n",
              "    }\n",
              "\n",
              "    .dataframe tbody tr th {\n",
              "        vertical-align: top;\n",
              "    }\n",
              "\n",
              "    .dataframe thead th {\n",
              "        text-align: right;\n",
              "    }\n",
              "</style>\n",
              "<table border=\"1\" class=\"dataframe\">\n",
              "  <thead>\n",
              "    <tr style=\"text-align: right;\">\n",
              "      <th></th>\n",
              "      <th>data_ref</th>\n",
              "      <th>index</th>\n",
              "      <th>sexo</th>\n",
              "      <th>posse_de_veiculo</th>\n",
              "      <th>posse_de_imovel</th>\n",
              "      <th>qtd_filhos</th>\n",
              "      <th>tipo_renda</th>\n",
              "      <th>educacao</th>\n",
              "      <th>estado_civil</th>\n",
              "      <th>tipo_residencia</th>\n",
              "      <th>idade</th>\n",
              "      <th>tempo_emprego</th>\n",
              "      <th>qt_pessoas_residencia</th>\n",
              "      <th>renda</th>\n",
              "      <th>mau</th>\n",
              "    </tr>\n",
              "  </thead>\n",
              "  <tbody>\n",
              "    <tr>\n",
              "      <th>0</th>\n",
              "      <td>2015-01-01</td>\n",
              "      <td>5733</td>\n",
              "      <td>F</td>\n",
              "      <td>N</td>\n",
              "      <td>N</td>\n",
              "      <td>0</td>\n",
              "      <td>Empresário</td>\n",
              "      <td>Médio</td>\n",
              "      <td>Solteiro</td>\n",
              "      <td>Casa</td>\n",
              "      <td>43</td>\n",
              "      <td>6.873973</td>\n",
              "      <td>1.0</td>\n",
              "      <td>2515.39</td>\n",
              "      <td>False</td>\n",
              "    </tr>\n",
              "    <tr>\n",
              "      <th>1</th>\n",
              "      <td>2015-01-01</td>\n",
              "      <td>727</td>\n",
              "      <td>F</td>\n",
              "      <td>S</td>\n",
              "      <td>S</td>\n",
              "      <td>0</td>\n",
              "      <td>Assalariado</td>\n",
              "      <td>Médio</td>\n",
              "      <td>Casado</td>\n",
              "      <td>Casa</td>\n",
              "      <td>35</td>\n",
              "      <td>4.526027</td>\n",
              "      <td>2.0</td>\n",
              "      <td>3180.19</td>\n",
              "      <td>False</td>\n",
              "    </tr>\n",
              "    <tr>\n",
              "      <th>2</th>\n",
              "      <td>2015-01-01</td>\n",
              "      <td>6374</td>\n",
              "      <td>F</td>\n",
              "      <td>N</td>\n",
              "      <td>N</td>\n",
              "      <td>2</td>\n",
              "      <td>Assalariado</td>\n",
              "      <td>Médio</td>\n",
              "      <td>Casado</td>\n",
              "      <td>Casa</td>\n",
              "      <td>31</td>\n",
              "      <td>0.243836</td>\n",
              "      <td>4.0</td>\n",
              "      <td>1582.29</td>\n",
              "      <td>False</td>\n",
              "    </tr>\n",
              "    <tr>\n",
              "      <th>3</th>\n",
              "      <td>2015-01-01</td>\n",
              "      <td>9566</td>\n",
              "      <td>F</td>\n",
              "      <td>N</td>\n",
              "      <td>N</td>\n",
              "      <td>0</td>\n",
              "      <td>Assalariado</td>\n",
              "      <td>Médio</td>\n",
              "      <td>Casado</td>\n",
              "      <td>Casa</td>\n",
              "      <td>54</td>\n",
              "      <td>12.772603</td>\n",
              "      <td>2.0</td>\n",
              "      <td>13721.17</td>\n",
              "      <td>False</td>\n",
              "    </tr>\n",
              "    <tr>\n",
              "      <th>4</th>\n",
              "      <td>2015-01-01</td>\n",
              "      <td>9502</td>\n",
              "      <td>F</td>\n",
              "      <td>S</td>\n",
              "      <td>N</td>\n",
              "      <td>0</td>\n",
              "      <td>Assalariado</td>\n",
              "      <td>Superior incompleto</td>\n",
              "      <td>Solteiro</td>\n",
              "      <td>Casa</td>\n",
              "      <td>31</td>\n",
              "      <td>8.432877</td>\n",
              "      <td>1.0</td>\n",
              "      <td>2891.08</td>\n",
              "      <td>False</td>\n",
              "    </tr>\n",
              "  </tbody>\n",
              "</table>\n",
              "</div>\n",
              "    <div class=\"colab-df-buttons\">\n",
              "\n",
              "  <div class=\"colab-df-container\">\n",
              "    <button class=\"colab-df-convert\" onclick=\"convertToInteractive('df-a8c165c8-0840-46eb-a34c-3985da318b28')\"\n",
              "            title=\"Convert this dataframe to an interactive table.\"\n",
              "            style=\"display:none;\">\n",
              "\n",
              "  <svg xmlns=\"http://www.w3.org/2000/svg\" height=\"24px\" viewBox=\"0 -960 960 960\">\n",
              "    <path d=\"M120-120v-720h720v720H120Zm60-500h600v-160H180v160Zm220 220h160v-160H400v160Zm0 220h160v-160H400v160ZM180-400h160v-160H180v160Zm440 0h160v-160H620v160ZM180-180h160v-160H180v160Zm440 0h160v-160H620v160Z\"/>\n",
              "  </svg>\n",
              "    </button>\n",
              "\n",
              "  <style>\n",
              "    .colab-df-container {\n",
              "      display:flex;\n",
              "      gap: 12px;\n",
              "    }\n",
              "\n",
              "    .colab-df-convert {\n",
              "      background-color: #E8F0FE;\n",
              "      border: none;\n",
              "      border-radius: 50%;\n",
              "      cursor: pointer;\n",
              "      display: none;\n",
              "      fill: #1967D2;\n",
              "      height: 32px;\n",
              "      padding: 0 0 0 0;\n",
              "      width: 32px;\n",
              "    }\n",
              "\n",
              "    .colab-df-convert:hover {\n",
              "      background-color: #E2EBFA;\n",
              "      box-shadow: 0px 1px 2px rgba(60, 64, 67, 0.3), 0px 1px 3px 1px rgba(60, 64, 67, 0.15);\n",
              "      fill: #174EA6;\n",
              "    }\n",
              "\n",
              "    .colab-df-buttons div {\n",
              "      margin-bottom: 4px;\n",
              "    }\n",
              "\n",
              "    [theme=dark] .colab-df-convert {\n",
              "      background-color: #3B4455;\n",
              "      fill: #D2E3FC;\n",
              "    }\n",
              "\n",
              "    [theme=dark] .colab-df-convert:hover {\n",
              "      background-color: #434B5C;\n",
              "      box-shadow: 0px 1px 3px 1px rgba(0, 0, 0, 0.15);\n",
              "      filter: drop-shadow(0px 1px 2px rgba(0, 0, 0, 0.3));\n",
              "      fill: #FFFFFF;\n",
              "    }\n",
              "  </style>\n",
              "\n",
              "    <script>\n",
              "      const buttonEl =\n",
              "        document.querySelector('#df-a8c165c8-0840-46eb-a34c-3985da318b28 button.colab-df-convert');\n",
              "      buttonEl.style.display =\n",
              "        google.colab.kernel.accessAllowed ? 'block' : 'none';\n",
              "\n",
              "      async function convertToInteractive(key) {\n",
              "        const element = document.querySelector('#df-a8c165c8-0840-46eb-a34c-3985da318b28');\n",
              "        const dataTable =\n",
              "          await google.colab.kernel.invokeFunction('convertToInteractive',\n",
              "                                                    [key], {});\n",
              "        if (!dataTable) return;\n",
              "\n",
              "        const docLinkHtml = 'Like what you see? Visit the ' +\n",
              "          '<a target=\"_blank\" href=https://colab.research.google.com/notebooks/data_table.ipynb>data table notebook</a>'\n",
              "          + ' to learn more about interactive tables.';\n",
              "        element.innerHTML = '';\n",
              "        dataTable['output_type'] = 'display_data';\n",
              "        await google.colab.output.renderOutput(dataTable, element);\n",
              "        const docLink = document.createElement('div');\n",
              "        docLink.innerHTML = docLinkHtml;\n",
              "        element.appendChild(docLink);\n",
              "      }\n",
              "    </script>\n",
              "  </div>\n",
              "\n",
              "\n",
              "<div id=\"df-e0a9a60e-a3d8-45cc-b9e4-e2aacade03b3\">\n",
              "  <button class=\"colab-df-quickchart\" onclick=\"quickchart('df-e0a9a60e-a3d8-45cc-b9e4-e2aacade03b3')\"\n",
              "            title=\"Suggest charts\"\n",
              "            style=\"display:none;\">\n",
              "\n",
              "<svg xmlns=\"http://www.w3.org/2000/svg\" height=\"24px\"viewBox=\"0 0 24 24\"\n",
              "     width=\"24px\">\n",
              "    <g>\n",
              "        <path d=\"M19 3H5c-1.1 0-2 .9-2 2v14c0 1.1.9 2 2 2h14c1.1 0 2-.9 2-2V5c0-1.1-.9-2-2-2zM9 17H7v-7h2v7zm4 0h-2V7h2v10zm4 0h-2v-4h2v4z\"/>\n",
              "    </g>\n",
              "</svg>\n",
              "  </button>\n",
              "\n",
              "<style>\n",
              "  .colab-df-quickchart {\n",
              "      --bg-color: #E8F0FE;\n",
              "      --fill-color: #1967D2;\n",
              "      --hover-bg-color: #E2EBFA;\n",
              "      --hover-fill-color: #174EA6;\n",
              "      --disabled-fill-color: #AAA;\n",
              "      --disabled-bg-color: #DDD;\n",
              "  }\n",
              "\n",
              "  [theme=dark] .colab-df-quickchart {\n",
              "      --bg-color: #3B4455;\n",
              "      --fill-color: #D2E3FC;\n",
              "      --hover-bg-color: #434B5C;\n",
              "      --hover-fill-color: #FFFFFF;\n",
              "      --disabled-bg-color: #3B4455;\n",
              "      --disabled-fill-color: #666;\n",
              "  }\n",
              "\n",
              "  .colab-df-quickchart {\n",
              "    background-color: var(--bg-color);\n",
              "    border: none;\n",
              "    border-radius: 50%;\n",
              "    cursor: pointer;\n",
              "    display: none;\n",
              "    fill: var(--fill-color);\n",
              "    height: 32px;\n",
              "    padding: 0;\n",
              "    width: 32px;\n",
              "  }\n",
              "\n",
              "  .colab-df-quickchart:hover {\n",
              "    background-color: var(--hover-bg-color);\n",
              "    box-shadow: 0 1px 2px rgba(60, 64, 67, 0.3), 0 1px 3px 1px rgba(60, 64, 67, 0.15);\n",
              "    fill: var(--button-hover-fill-color);\n",
              "  }\n",
              "\n",
              "  .colab-df-quickchart-complete:disabled,\n",
              "  .colab-df-quickchart-complete:disabled:hover {\n",
              "    background-color: var(--disabled-bg-color);\n",
              "    fill: var(--disabled-fill-color);\n",
              "    box-shadow: none;\n",
              "  }\n",
              "\n",
              "  .colab-df-spinner {\n",
              "    border: 2px solid var(--fill-color);\n",
              "    border-color: transparent;\n",
              "    border-bottom-color: var(--fill-color);\n",
              "    animation:\n",
              "      spin 1s steps(1) infinite;\n",
              "  }\n",
              "\n",
              "  @keyframes spin {\n",
              "    0% {\n",
              "      border-color: transparent;\n",
              "      border-bottom-color: var(--fill-color);\n",
              "      border-left-color: var(--fill-color);\n",
              "    }\n",
              "    20% {\n",
              "      border-color: transparent;\n",
              "      border-left-color: var(--fill-color);\n",
              "      border-top-color: var(--fill-color);\n",
              "    }\n",
              "    30% {\n",
              "      border-color: transparent;\n",
              "      border-left-color: var(--fill-color);\n",
              "      border-top-color: var(--fill-color);\n",
              "      border-right-color: var(--fill-color);\n",
              "    }\n",
              "    40% {\n",
              "      border-color: transparent;\n",
              "      border-right-color: var(--fill-color);\n",
              "      border-top-color: var(--fill-color);\n",
              "    }\n",
              "    60% {\n",
              "      border-color: transparent;\n",
              "      border-right-color: var(--fill-color);\n",
              "    }\n",
              "    80% {\n",
              "      border-color: transparent;\n",
              "      border-right-color: var(--fill-color);\n",
              "      border-bottom-color: var(--fill-color);\n",
              "    }\n",
              "    90% {\n",
              "      border-color: transparent;\n",
              "      border-bottom-color: var(--fill-color);\n",
              "    }\n",
              "  }\n",
              "</style>\n",
              "\n",
              "  <script>\n",
              "    async function quickchart(key) {\n",
              "      const quickchartButtonEl =\n",
              "        document.querySelector('#' + key + ' button');\n",
              "      quickchartButtonEl.disabled = true;  // To prevent multiple clicks.\n",
              "      quickchartButtonEl.classList.add('colab-df-spinner');\n",
              "      try {\n",
              "        const charts = await google.colab.kernel.invokeFunction(\n",
              "            'suggestCharts', [key], {});\n",
              "      } catch (error) {\n",
              "        console.error('Error during call to suggestCharts:', error);\n",
              "      }\n",
              "      quickchartButtonEl.classList.remove('colab-df-spinner');\n",
              "      quickchartButtonEl.classList.add('colab-df-quickchart-complete');\n",
              "    }\n",
              "    (() => {\n",
              "      let quickchartButtonEl =\n",
              "        document.querySelector('#df-e0a9a60e-a3d8-45cc-b9e4-e2aacade03b3 button');\n",
              "      quickchartButtonEl.style.display =\n",
              "        google.colab.kernel.accessAllowed ? 'block' : 'none';\n",
              "    })();\n",
              "  </script>\n",
              "</div>\n",
              "\n",
              "    </div>\n",
              "  </div>\n"
            ],
            "application/vnd.google.colaboratory.intrinsic+json": {
              "type": "dataframe",
              "variable_name": "df"
            }
          },
          "metadata": {},
          "execution_count": 3
        }
      ],
      "source": [
        "import pandas as pd\n",
        "import numpy as np\n",
        "from sklearn.model_selection import train_test_split\n",
        "from sklearn.preprocessing import StandardScaler, OneHotEncoder\n",
        "from sklearn.linear_model import LogisticRegression\n",
        "from sklearn.metrics import classification_report, roc_auc_score, accuracy_score, roc_auc_score, roc_curve\n",
        "from sklearn.pipeline import Pipeline\n",
        "from sklearn.compose import ColumnTransformer\n",
        "from sklearn.impute import SimpleImputer\n",
        "from sklearn.preprocessing import StandardScaler,\n",
        "from sklearn.ensemble import RandomForestClassifier\n",
        "from boruta import BorutaPy\n",
        "from sklearn.decomposition import PCA\n",
        "from sklearn.base import BaseEstimator, TransformerMixin\n",
        "\n",
        "df = pd.read_feather('credit_scoring.ftr')\n",
        "df.head()"
      ]
    },
    {
      "cell_type": "markdown",
      "metadata": {
        "id": "CrmGcXtC4sDI"
      },
      "source": [
        "## Amostragem\n",
        "\n",
        "Separe os três últimos meses como safras de validação *out of time* (oot).\n",
        "\n",
        "Variáveis:<br>\n",
        "Considere que a variável ```data_ref``` não é uma variável explicativa, é somente uma variável indicadora da safra, e não deve ser utilizada na modelagem. A variávei ```index``` é um identificador do cliente, e também não deve ser utilizada como covariável (variável explicativa). As restantes podem ser utilizadas para prever a inadimplência, incluindo a renda.\n"
      ]
    },
    {
      "cell_type": "code",
      "execution_count": null,
      "metadata": {
        "colab": {
          "base_uri": "https://localhost:8080/"
        },
        "id": "kKXSus5A4sDI",
        "outputId": "6a1997d9-6f4e-4970-9c5f-caf0a537f2ed"
      },
      "outputs": [
        {
          "output_type": "execute_result",
          "data": {
            "text/plain": [
              "(    data_ref  index sexo posse_de_veiculo posse_de_imovel  qtd_filhos  \\\n",
              " 0 2015-01-01   5733    F                N               N           0   \n",
              " 1 2015-01-01    727    F                S               S           0   \n",
              " 2 2015-01-01   6374    F                N               N           2   \n",
              " 3 2015-01-01   9566    F                N               N           0   \n",
              " 4 2015-01-01   9502    F                S               N           0   \n",
              " \n",
              "     tipo_renda             educacao estado_civil tipo_residencia  idade  \\\n",
              " 0   Empresário                Médio     Solteiro            Casa     43   \n",
              " 1  Assalariado                Médio       Casado            Casa     35   \n",
              " 2  Assalariado                Médio       Casado            Casa     31   \n",
              " 3  Assalariado                Médio       Casado            Casa     54   \n",
              " 4  Assalariado  Superior incompleto     Solteiro            Casa     31   \n",
              " \n",
              "    tempo_emprego  qt_pessoas_residencia     renda    mau  \n",
              " 0       6.873973                    1.0   2515.39  False  \n",
              " 1       4.526027                    2.0   3180.19  False  \n",
              " 2       0.243836                    4.0   1582.29  False  \n",
              " 3      12.772603                    2.0  13721.17  False  \n",
              " 4       8.432877                    1.0   2891.08  False  ,\n",
              " Empty DataFrame\n",
              " Columns: [data_ref, index, sexo, posse_de_veiculo, posse_de_imovel, qtd_filhos, tipo_renda, educacao, estado_civil, tipo_residencia, idade, tempo_emprego, qt_pessoas_residencia, renda, mau]\n",
              " Index: [])"
            ]
          },
          "metadata": {},
          "execution_count": 4
        }
      ],
      "source": [
        "df['data_ref'] = pd.to_datetime(df['data_ref'])\n",
        "\n",
        "ultimo_mes = df['data_ref'].max()\n",
        "\n",
        "safras_oot = pd.date_range(end=ultimo_mes, periods=3, freq='M')\n",
        "\n",
        "df_oot = df[df['data_ref'].isin(safras_oot)]\n",
        "\n",
        "df_train = df[~df['data_ref'].isin(safras_oot)]\n",
        "\n",
        "df_train.head(), df_oot.head()"
      ]
    },
    {
      "cell_type": "markdown",
      "metadata": {
        "id": "H6-xCHGQ4sDI"
      },
      "source": [
        "## Descritiva básica univariada\n",
        "\n",
        "- Descreva a base quanto ao número de linhas, número de linhas para cada mês em ```data_ref```.\n",
        "- Faça uma descritiva básica univariada de cada variável. Considere as naturezas diferentes: qualitativas e quantitativas."
      ]
    },
    {
      "cell_type": "code",
      "execution_count": null,
      "metadata": {
        "colab": {
          "base_uri": "https://localhost:8080/"
        },
        "id": "eP9Pk5Kn4sDJ",
        "outputId": "d9873bec-dcb1-4860-fb3e-69bf245bbbd7"
      },
      "outputs": [
        {
          "output_type": "execute_result",
          "data": {
            "text/plain": [
              "(750000,\n",
              " data_ref\n",
              " 2015-01-01    50000\n",
              " 2015-02-01    50000\n",
              " 2015-03-01    50000\n",
              " 2015-04-01    50000\n",
              " 2015-05-01    50000\n",
              " 2015-06-01    50000\n",
              " 2015-07-01    50000\n",
              " 2015-08-01    50000\n",
              " 2015-09-01    50000\n",
              " 2015-10-01    50000\n",
              " 2015-11-01    50000\n",
              " 2015-12-01    50000\n",
              " 2016-01-01    50000\n",
              " 2016-02-01    50000\n",
              " 2016-03-01    50000\n",
              " Name: count, dtype: int64,\n",
              "           sexo posse_de_veiculo posse_de_imovel   tipo_renda educacao  \\\n",
              " count   750000           750000          750000       750000   750000   \n",
              " unique       2                2               2            5        5   \n",
              " top          F                N               S  Assalariado    Médio   \n",
              " freq    504580           457954          503692       385740   506836   \n",
              " \n",
              "        estado_civil tipo_residencia     mau  \n",
              " count        750000          750000  750000  \n",
              " unique            5               6       2  \n",
              " top          Casado            Casa   False  \n",
              " freq         526472          674294  691357  ,\n",
              "           qtd_filhos          idade  tempo_emprego  qt_pessoas_residencia  \\\n",
              " count  750000.000000  750000.000000  624043.000000          750000.000000   \n",
              " mean        0.433251      43.804733       7.748574               2.212241   \n",
              " std         0.739379      11.229868       6.687455               0.903428   \n",
              " min         0.000000      22.000000       0.117808               1.000000   \n",
              " 25%         0.000000      34.000000       3.049315               2.000000   \n",
              " 50%         0.000000      43.000000       6.046575               2.000000   \n",
              " 75%         1.000000      53.000000      10.183562               3.000000   \n",
              " max        14.000000      68.000000      42.906849              15.000000   \n",
              " \n",
              "               renda  \n",
              " count  7.500000e+05  \n",
              " mean   2.323854e+04  \n",
              " std    7.910601e+04  \n",
              " min    1.076700e+02  \n",
              " 25%    3.467700e+03  \n",
              " 50%    7.861820e+03  \n",
              " 75%    1.831828e+04  \n",
              " max    4.083986e+06  )"
            ]
          },
          "metadata": {},
          "execution_count": 5
        }
      ],
      "source": [
        "num_linhas_total = df.shape[0]\n",
        "\n",
        "linhas_por_mes = df['data_ref'].value_counts().sort_index()\n",
        "\n",
        "variaveis_qualitativas = ['sexo', 'posse_de_veiculo', 'posse_de_imovel', 'tipo_renda', 'educacao', 'estado_civil', 'tipo_residencia', 'mau']\n",
        "variaveis_quantitativas = ['qtd_filhos', 'idade', 'tempo_emprego', 'qt_pessoas_residencia', 'renda']\n",
        "\n",
        "desc_qualitativas = df[variaveis_qualitativas].describe(include='all')\n",
        "\n",
        "desc_quantitativas = df[variaveis_quantitativas].describe()\n",
        "\n",
        "num_linhas_total, linhas_por_mes, desc_qualitativas, desc_quantitativas"
      ]
    },
    {
      "cell_type": "markdown",
      "metadata": {
        "id": "Gudwla9s4sDJ"
      },
      "source": [
        "## Descritiva bivariada\n",
        "\n",
        "Faça uma análise descritiva bivariada de cada variável"
      ]
    },
    {
      "cell_type": "code",
      "execution_count": null,
      "metadata": {
        "colab": {
          "base_uri": "https://localhost:8080/"
        },
        "id": "urMYB-bp4sDJ",
        "outputId": "28b58b52-060d-40a3-edc8-65e71057cf8c"
      },
      "outputs": [
        {
          "output_type": "stream",
          "name": "stdout",
          "text": [
            "Média de qtd_filhos por grupo de inadimplência:\n",
            " mau\n",
            "False    0.431739\n",
            "True     0.451068\n",
            "Name: qtd_filhos, dtype: float64\n",
            "--------------------------------------------------\n",
            "Média de idade por grupo de inadimplência:\n",
            " mau\n",
            "False    43.896274\n",
            "True     42.725543\n",
            "Name: idade, dtype: float64\n",
            "--------------------------------------------------\n",
            "Média de tempo_emprego por grupo de inadimplência:\n",
            " mau\n",
            "False    8.004300\n",
            "True     4.695965\n",
            "Name: tempo_emprego, dtype: float64\n",
            "--------------------------------------------------\n",
            "Média de qt_pessoas_residencia por grupo de inadimplência:\n",
            " mau\n",
            "False    2.211221\n",
            "True     2.224272\n",
            "Name: qt_pessoas_residencia, dtype: float64\n",
            "--------------------------------------------------\n",
            "Média de renda por grupo de inadimplência:\n",
            " mau\n",
            "False    24804.689618\n",
            "True      4774.871007\n",
            "Name: renda, dtype: float64\n",
            "--------------------------------------------------\n"
          ]
        }
      ],
      "source": [
        "for var in variaveis_quantitativas:\n",
        "    media_por_grupo = df.groupby('mau')[var].mean()\n",
        "    print(f'Média de {var} por grupo de inadimplência:\\n', media_por_grupo)\n",
        "    print('-' * 50)"
      ]
    },
    {
      "cell_type": "markdown",
      "metadata": {
        "id": "rP3hNQfF4sDJ"
      },
      "source": [
        "## Desenvolvimento do modelo\n",
        "\n",
        "Desenvolva um modelo de *credit scoring* através de uma regressão logística.\n",
        "\n",
        "- Trate valores missings e outliers\n",
        "- Trate 'zeros estruturais'\n",
        "- Faça agrupamentos de categorias conforme vimos em aula\n",
        "- Proponha uma equação preditiva para 'mau'\n",
        "- Caso hajam categorias não significantes, justifique"
      ]
    },
    {
      "cell_type": "code",
      "execution_count": null,
      "metadata": {
        "colab": {
          "base_uri": "https://localhost:8080/"
        },
        "id": "RmVZGTXq4sDK",
        "outputId": "db3b8c15-9437-49f4-a8cb-1e020c65e660"
      },
      "outputs": [
        {
          "output_type": "stream",
          "name": "stdout",
          "text": [
            "Valores missing por coluna:\n",
            " data_ref                      0\n",
            "index                         0\n",
            "sexo                          0\n",
            "posse_de_veiculo              0\n",
            "posse_de_imovel               0\n",
            "qtd_filhos                    0\n",
            "tipo_renda                    0\n",
            "educacao                      0\n",
            "estado_civil                  0\n",
            "tipo_residencia               0\n",
            "idade                         0\n",
            "tempo_emprego            125957\n",
            "qt_pessoas_residencia         0\n",
            "renda                         0\n",
            "mau                           0\n",
            "dtype: int64\n"
          ]
        }
      ],
      "source": [
        "missing_values = df.isnull().sum()\n",
        "print(\"Valores missing por coluna:\\n\", missing_values)"
      ]
    },
    {
      "cell_type": "code",
      "execution_count": null,
      "metadata": {
        "id": "FD5SjZGz8RPe"
      },
      "outputs": [],
      "source": [
        "df['tempo_emprego'].fillna(df['tempo_emprego'].median(), inplace=True)"
      ]
    },
    {
      "cell_type": "code",
      "execution_count": null,
      "metadata": {
        "colab": {
          "base_uri": "https://localhost:8080/"
        },
        "id": "7bdBg_C781qS",
        "outputId": "9ac4435b-4752-4466-ade2-45cc306b25b4"
      },
      "outputs": [
        {
          "output_type": "stream",
          "name": "stdout",
          "text": [
            "Número de outliers detectados: 106876\n"
          ]
        }
      ],
      "source": [
        "Q1 = df[variaveis_quantitativas].quantile(0.25)\n",
        "Q3 = df[variaveis_quantitativas].quantile(0.75)\n",
        "IQR = Q3 - Q1\n",
        "\n",
        "outliers = df[((df[variaveis_quantitativas] < (Q1 - 1.5 * IQR)) | (df[variaveis_quantitativas] > (Q3 + 1.5 * IQR))).any(axis=1)]\n",
        "print(f\"Número de outliers detectados: {outliers.shape[0]}\")\n",
        "\n",
        "for var in variaveis_quantitativas:\n",
        "    lower_bound = df[var].quantile(0.05)\n",
        "    upper_bound = df[var].quantile(0.95)\n",
        "    df[var] = df[var].clip(lower=lower_bound, upper=upper_bound)"
      ]
    },
    {
      "cell_type": "code",
      "execution_count": null,
      "metadata": {
        "id": "tQvVeYXR9E7a"
      },
      "outputs": [],
      "source": [
        "df['tempo_emprego'] = df['tempo_emprego'].replace(0, df['tempo_emprego'].median())"
      ]
    },
    {
      "cell_type": "code",
      "execution_count": null,
      "metadata": {
        "id": "_s2ZmopZ9mT6"
      },
      "outputs": [],
      "source": [
        "df['educacao'] = df['educacao'].replace({\n",
        "    'Superior completo': 'Superior',\n",
        "    'Superior incompleto': 'Superior',\n",
        "    'Pós-graduação': 'Superior'\n",
        "})\n",
        "\n",
        "df['tipo_renda'] = df['tipo_renda'].replace({\n",
        "    'Servidor público': 'Assalariado',\n",
        "    'Empresário': 'Empresário/Assalariado'\n",
        "})"
      ]
    },
    {
      "cell_type": "code",
      "execution_count": null,
      "metadata": {
        "id": "1xfYniqr9tAt"
      },
      "outputs": [],
      "source": [
        "X = df.drop(columns=['data_ref', 'index', 'mau'])\n",
        "y = df['mau']\n",
        "\n",
        "X = pd.get_dummies(X, drop_first=True)\n",
        "\n",
        "X_train, X_test, y_train, y_test = train_test_split(X, y, test_size=0.3, random_state=42)\n",
        "\n",
        "scaler = StandardScaler()\n",
        "X_train = scaler.fit_transform(X_train)\n",
        "X_test = scaler.transform(X_test)"
      ]
    },
    {
      "cell_type": "code",
      "execution_count": null,
      "metadata": {
        "colab": {
          "base_uri": "https://localhost:8080/"
        },
        "id": "1sa0geBS-XHq",
        "outputId": "7bb56958-fa19-41f0-c38a-4c2ee9ebec53"
      },
      "outputs": [
        {
          "output_type": "stream",
          "name": "stderr",
          "text": [
            "/usr/local/lib/python3.10/dist-packages/sklearn/metrics/_classification.py:1509: UndefinedMetricWarning: Precision is ill-defined and being set to 0.0 in labels with no predicted samples. Use `zero_division` parameter to control this behavior.\n",
            "  _warn_prf(average, modifier, f\"{metric.capitalize()} is\", len(result))\n",
            "/usr/local/lib/python3.10/dist-packages/sklearn/metrics/_classification.py:1509: UndefinedMetricWarning: Precision is ill-defined and being set to 0.0 in labels with no predicted samples. Use `zero_division` parameter to control this behavior.\n",
            "  _warn_prf(average, modifier, f\"{metric.capitalize()} is\", len(result))\n"
          ]
        },
        {
          "output_type": "stream",
          "name": "stdout",
          "text": [
            "Relatório de classificação:\n",
            "               precision    recall  f1-score   support\n",
            "\n",
            "       False       0.92      1.00      0.96    207295\n",
            "        True       0.00      0.00      0.00     17705\n",
            "\n",
            "    accuracy                           0.92    225000\n",
            "   macro avg       0.46      0.50      0.48    225000\n",
            "weighted avg       0.85      0.92      0.88    225000\n",
            "\n",
            "AUC-ROC: 0.7751455037844794\n"
          ]
        },
        {
          "output_type": "stream",
          "name": "stderr",
          "text": [
            "/usr/local/lib/python3.10/dist-packages/sklearn/metrics/_classification.py:1509: UndefinedMetricWarning: Precision is ill-defined and being set to 0.0 in labels with no predicted samples. Use `zero_division` parameter to control this behavior.\n",
            "  _warn_prf(average, modifier, f\"{metric.capitalize()} is\", len(result))\n"
          ]
        }
      ],
      "source": [
        "model = LogisticRegression()\n",
        "model.fit(X_train, y_train)\n",
        "\n",
        "y_pred = model.predict(X_test)\n",
        "\n",
        "print(\"Relatório de classificação:\\n\", classification_report(y_test, y_pred))\n",
        "print(\"AUC-ROC:\", roc_auc_score(y_test, model.predict_proba(X_test)[:, 1]))"
      ]
    },
    {
      "cell_type": "code",
      "execution_count": null,
      "metadata": {
        "id": "KBnN1UYN-lbw"
      },
      "outputs": [],
      "source": [
        "X = df.drop(columns=['data_ref', 'index', 'mau'])\n",
        "y = df['mau']\n",
        "\n",
        "X = pd.get_dummies(X, drop_first=True)\n",
        "\n",
        "X_train, X_test, y_train, y_test = train_test_split(X, y, test_size=0.3, random_state=42)\n",
        "\n",
        "scaler = StandardScaler()\n",
        "X_train = scaler.fit_transform(X_train)\n",
        "X_test = scaler.transform(X_test)"
      ]
    },
    {
      "cell_type": "code",
      "execution_count": null,
      "metadata": {
        "colab": {
          "base_uri": "https://localhost:8080/"
        },
        "id": "FXAMjaosOm56",
        "outputId": "e0b78f13-5ef2-4fc0-d7fa-d8516108cb1a"
      },
      "outputs": [
        {
          "output_type": "stream",
          "name": "stderr",
          "text": [
            "/usr/local/lib/python3.10/dist-packages/sklearn/metrics/_classification.py:1509: UndefinedMetricWarning: Precision is ill-defined and being set to 0.0 in labels with no predicted samples. Use `zero_division` parameter to control this behavior.\n",
            "  _warn_prf(average, modifier, f\"{metric.capitalize()} is\", len(result))\n",
            "/usr/local/lib/python3.10/dist-packages/sklearn/metrics/_classification.py:1509: UndefinedMetricWarning: Precision is ill-defined and being set to 0.0 in labels with no predicted samples. Use `zero_division` parameter to control this behavior.\n",
            "  _warn_prf(average, modifier, f\"{metric.capitalize()} is\", len(result))\n"
          ]
        },
        {
          "output_type": "stream",
          "name": "stdout",
          "text": [
            "Relatório de classificação:\n",
            "               precision    recall  f1-score   support\n",
            "\n",
            "       False       0.92      1.00      0.96    207295\n",
            "        True       0.00      0.00      0.00     17705\n",
            "\n",
            "    accuracy                           0.92    225000\n",
            "   macro avg       0.46      0.50      0.48    225000\n",
            "weighted avg       0.85      0.92      0.88    225000\n",
            "\n",
            "AUC-ROC: 0.7751455037844794\n"
          ]
        },
        {
          "output_type": "stream",
          "name": "stderr",
          "text": [
            "/usr/local/lib/python3.10/dist-packages/sklearn/metrics/_classification.py:1509: UndefinedMetricWarning: Precision is ill-defined and being set to 0.0 in labels with no predicted samples. Use `zero_division` parameter to control this behavior.\n",
            "  _warn_prf(average, modifier, f\"{metric.capitalize()} is\", len(result))\n"
          ]
        }
      ],
      "source": [
        "model = LogisticRegression()\n",
        "model.fit(X_train, y_train)\n",
        "\n",
        "y_pred = model.predict(X_test)\n",
        "\n",
        "print(\"Relatório de classificação:\\n\", classification_report(y_test, y_pred))\n",
        "print(\"AUC-ROC:\", roc_auc_score(y_test, model.predict_proba(X_test)[:, 1]))"
      ]
    },
    {
      "cell_type": "code",
      "execution_count": null,
      "metadata": {
        "colab": {
          "base_uri": "https://localhost:8080/"
        },
        "id": "MNphKQ7ZOva1",
        "outputId": "ae28b05f-4942-422d-efeb-8c1397d69af4"
      },
      "outputs": [
        {
          "output_type": "stream",
          "name": "stdout",
          "text": [
            "Coeficientes do modelo:\n",
            "                              Variável  Coeficiente\n",
            "0                          qtd_filhos    -0.007815\n",
            "1                               idade    -0.001074\n",
            "2                       tempo_emprego    -0.152392\n",
            "3               qt_pessoas_residencia     0.005133\n",
            "4                               renda    -2.561750\n",
            "5                              sexo_M    -0.060530\n",
            "6                  posse_de_veiculo_S     0.017185\n",
            "7                   posse_de_imovel_S    -0.038133\n",
            "8                 tipo_renda_Bolsista    -0.003051\n",
            "9   tipo_renda_Empresário/Assalariado    -0.018573\n",
            "10             tipo_renda_Pensionista    -0.020979\n",
            "11                     educacao_Médio    -0.029881\n",
            "12             educacao_Pós graduação    -0.007775\n",
            "13                  educacao_Superior    -0.057023\n",
            "14              estado_civil_Separado     0.014419\n",
            "15              estado_civil_Solteiro     0.003353\n",
            "16                 estado_civil_União     0.009116\n",
            "17                 estado_civil_Viúvo    -0.012444\n",
            "18               tipo_residencia_Casa    -0.014185\n",
            "19        tipo_residencia_Com os pais    -0.006218\n",
            "20        tipo_residencia_Comunitário    -0.007316\n",
            "21            tipo_residencia_Estúdio     0.000455\n",
            "22      tipo_residencia_Governamental    -0.008688\n"
          ]
        }
      ],
      "source": [
        "coeficientes = pd.DataFrame({'Variável': X.columns, 'Coeficiente': model.coef_[0]})\n",
        "print(\"Coeficientes do modelo:\\n\", coeficientes)\n"
      ]
    },
    {
      "cell_type": "markdown",
      "metadata": {
        "id": "re_V59o54sDK"
      },
      "source": [
        "## Avaliação do modelo\n",
        "\n",
        "Avalie o poder discriminante do modelo pelo menos avaliando acurácia, KS e Gini.\n",
        "\n",
        "Avalie estas métricas nas bases de desenvolvimento e *out of time*."
      ]
    },
    {
      "cell_type": "code",
      "execution_count": null,
      "metadata": {
        "colab": {
          "base_uri": "https://localhost:8080/"
        },
        "id": "jHEMZX9V4sDK",
        "outputId": "b44b9ba1-a070-4898-ab48-5178d2bacbe3"
      },
      "outputs": [
        {
          "output_type": "stream",
          "name": "stdout",
          "text": [
            "Acurácia na base de desenvolvimento (treino): 0.9220\n",
            "Acurácia na base OOT (teste): 0.9213\n"
          ]
        }
      ],
      "source": [
        "y_train_pred = model.predict(X_train)\n",
        "y_train_prob = model.predict_proba(X_train)[:, 1]\n",
        "\n",
        "y_test_pred = model.predict(X_test)\n",
        "y_test_prob = model.predict_proba(X_test)[:, 1]\n",
        "\n",
        "accuracy_train = accuracy_score(y_train, y_train_pred)\n",
        "accuracy_test = accuracy_score(y_test, y_test_pred)\n",
        "\n",
        "print(f\"Acurácia na base de desenvolvimento (treino): {accuracy_train:.4f}\")\n",
        "print(f\"Acurácia na base OOT (teste): {accuracy_test:.4f}\")"
      ]
    },
    {
      "cell_type": "code",
      "execution_count": null,
      "metadata": {
        "colab": {
          "base_uri": "https://localhost:8080/"
        },
        "id": "CNFz3asW4sDK",
        "outputId": "5efb0c94-4f86-4f74-db4d-5b108e33d38f"
      },
      "outputs": [
        {
          "output_type": "stream",
          "name": "stdout",
          "text": [
            "KS na base de desenvolvimento (treino): 0.4164\n",
            "KS na base OOT (teste): 0.4132\n"
          ]
        }
      ],
      "source": [
        "def ks_statistic(y_true, y_prob):\n",
        "    fpr, tpr, thresholds = roc_curve(y_true, y_prob)\n",
        "    return np.max(tpr - fpr)\n",
        "\n",
        "ks_train = ks_statistic(y_train, y_train_prob)\n",
        "ks_test = ks_statistic(y_test, y_test_prob)\n",
        "\n",
        "print(f\"KS na base de desenvolvimento (treino): {ks_train:.4f}\")\n",
        "print(f\"KS na base OOT (teste): {ks_test:.4f}\")"
      ]
    },
    {
      "cell_type": "code",
      "execution_count": null,
      "metadata": {
        "colab": {
          "base_uri": "https://localhost:8080/"
        },
        "id": "zhdWWsK7P7ir",
        "outputId": "51c848b2-4af5-461b-8cbd-d96b5572b33c"
      },
      "outputs": [
        {
          "output_type": "stream",
          "name": "stdout",
          "text": [
            "Gini na base de desenvolvimento (treino): 0.5507\n",
            "Gini na base OOT (teste): 0.5503\n"
          ]
        }
      ],
      "source": [
        "def gini_coefficient(y_true, y_prob):\n",
        "    auc = roc_auc_score(y_true, y_prob)\n",
        "    return 2 * auc - 1\n",
        "\n",
        "gini_train = gini_coefficient(y_train, y_train_prob)\n",
        "gini_test = gini_coefficient(y_test, y_test_prob)\n",
        "\n",
        "print(f\"Gini na base de desenvolvimento (treino): {gini_train:.4f}\")\n",
        "print(f\"Gini na base OOT (teste): {gini_test:.4f}\")"
      ]
    },
    {
      "cell_type": "markdown",
      "metadata": {
        "id": "bG9EoPZFQMZD"
      },
      "source": [
        "### O modelo apresenta métricas bastante consistentes entre a base de treino e a base OOT, sugerindo que ele não está sofrendo de overfitting."
      ]
    },
    {
      "cell_type": "markdown",
      "metadata": {
        "id": "RGcaiqrI4sDK"
      },
      "source": [
        "## Criar um pipeline utilizando o sklearn pipeline"
      ]
    },
    {
      "cell_type": "code",
      "execution_count": null,
      "metadata": {
        "id": "Po8NB7494sDK"
      },
      "outputs": [],
      "source": [
        "X = df.drop(columns=['mau', 'data_ref', 'index'])\n",
        "y = df['mau']"
      ]
    },
    {
      "cell_type": "code",
      "execution_count": null,
      "metadata": {
        "id": "rKAtVGVPQqz6"
      },
      "outputs": [],
      "source": [
        "numeric_features = ['qtd_filhos', 'idade', 'tempo_emprego', 'qt_pessoas_residencia', 'renda']\n",
        "categorical_features = X.select_dtypes(include=['object']).columns.tolist()\n"
      ]
    },
    {
      "cell_type": "code",
      "execution_count": null,
      "metadata": {
        "id": "yh1WlnQUQtgV"
      },
      "outputs": [],
      "source": [
        "numeric_transformer = Pipeline(steps=[\n",
        "    ('imputer', SimpleImputer(strategy='median')),\n",
        "    ('scaler', StandardScaler())\n",
        "])\n",
        "\n",
        "categorical_transformer = Pipeline(steps=[\n",
        "    ('imputer', SimpleImputer(strategy='most_frequent')),\n",
        "    ('onehot', OneHotEncoder(handle_unknown='ignore'))\n",
        "])"
      ]
    },
    {
      "cell_type": "code",
      "execution_count": null,
      "metadata": {
        "id": "IS27X1WhQzYy"
      },
      "outputs": [],
      "source": [
        "preprocessor = ColumnTransformer(\n",
        "    transformers=[\n",
        "        ('num', numeric_transformer, numeric_features),\n",
        "        ('cat', categorical_transformer, categorical_features)\n",
        "    ])"
      ]
    },
    {
      "cell_type": "code",
      "execution_count": null,
      "metadata": {
        "id": "TtBjhl05Q2x9"
      },
      "outputs": [],
      "source": [
        "pipeline = Pipeline(steps=[\n",
        "    ('preprocessor', preprocessor),\n",
        "    ('classifier', LogisticRegression())\n",
        "])"
      ]
    },
    {
      "cell_type": "code",
      "execution_count": null,
      "metadata": {
        "id": "YO6lN0jpQ815"
      },
      "outputs": [],
      "source": [
        "X_train, X_test, y_train, y_test = train_test_split(X, y, test_size=0.3, random_state=42)"
      ]
    },
    {
      "cell_type": "code",
      "execution_count": null,
      "metadata": {
        "colab": {
          "base_uri": "https://localhost:8080/"
        },
        "id": "ZSxX9UGIQ-DH",
        "outputId": "1118df0a-ebdd-4161-aeae-bd0e9a68ada8"
      },
      "outputs": [
        {
          "output_type": "stream",
          "name": "stdout",
          "text": [
            "Acurácia na base de desenvolvimento (treino): 0.9220\n",
            "Acurácia na base OOT (teste): 0.9213\n",
            "KS na base de desenvolvimento (treino): 0.4160\n",
            "KS na base OOT (teste): 0.4127\n",
            "Gini na base de desenvolvimento (treino): 0.5506\n",
            "Gini na base OOT (teste): 0.5498\n"
          ]
        }
      ],
      "source": [
        "pipeline.fit(X_train, y_train)\n",
        "\n",
        "y_train_pred = pipeline.predict(X_train)\n",
        "y_train_prob = pipeline.predict_proba(X_train)[:, 1]\n",
        "\n",
        "y_test_pred = pipeline.predict(X_test)\n",
        "y_test_prob = pipeline.predict_proba(X_test)[:, 1]\n",
        "\n",
        "accuracy_train = accuracy_score(y_train, y_train_pred)\n",
        "accuracy_test = accuracy_score(y_test, y_test_pred)\n",
        "\n",
        "ks_train = ks_statistic(y_train, y_train_prob)\n",
        "ks_test = ks_statistic(y_test, y_test_prob)\n",
        "\n",
        "gini_train = gini_coefficient(y_train, y_train_prob)\n",
        "gini_test = gini_coefficient(y_test, y_test_prob)\n",
        "\n",
        "print(f\"Acurácia na base de desenvolvimento (treino): {accuracy_train:.4f}\")\n",
        "print(f\"Acurácia na base OOT (teste): {accuracy_test:.4f}\")\n",
        "print(f\"KS na base de desenvolvimento (treino): {ks_train:.4f}\")\n",
        "print(f\"KS na base OOT (teste): {ks_test:.4f}\")\n",
        "print(f\"Gini na base de desenvolvimento (treino): {gini_train:.4f}\")\n",
        "print(f\"Gini na base OOT (teste): {gini_test:.4f}\")\n"
      ]
    },
    {
      "cell_type": "markdown",
      "metadata": {
        "id": "H5nnHWKz4sDK"
      },
      "source": [
        "## Pré processamento"
      ]
    },
    {
      "cell_type": "markdown",
      "metadata": {
        "id": "CZlVQUW14sDL"
      },
      "source": [
        "### Substituição de nulos (nans)\n",
        "\n",
        "Existe nulos na base? é dado numérico ou categórico? qual o valor de substituição? média? valor mais frequente? etc"
      ]
    },
    {
      "cell_type": "code",
      "execution_count": null,
      "metadata": {
        "colab": {
          "base_uri": "https://localhost:8080/"
        },
        "id": "NU88SIou4sDL",
        "outputId": "5f0d856a-dfde-4e05-be78-ddef807b9ddc"
      },
      "outputs": [
        {
          "output_type": "stream",
          "name": "stdout",
          "text": [
            "data_ref                 0\n",
            "index                    0\n",
            "sexo                     0\n",
            "posse_de_veiculo         0\n",
            "posse_de_imovel          0\n",
            "qtd_filhos               0\n",
            "tipo_renda               0\n",
            "educacao                 0\n",
            "estado_civil             0\n",
            "tipo_residencia          0\n",
            "idade                    0\n",
            "tempo_emprego            0\n",
            "qt_pessoas_residencia    0\n",
            "renda                    0\n",
            "mau                      0\n",
            "dtype: int64\n"
          ]
        }
      ],
      "source": [
        "nulos_por_coluna = df.isnull().sum()\n",
        "print(nulos_por_coluna)"
      ]
    },
    {
      "cell_type": "code",
      "execution_count": null,
      "metadata": {
        "colab": {
          "base_uri": "https://localhost:8080/"
        },
        "id": "2Yn5PHsA4sDL",
        "outputId": "bc37b1d9-e029-44c2-af14-cc9b02ed7fd0"
      },
      "outputs": [
        {
          "output_type": "stream",
          "name": "stdout",
          "text": [
            "data_ref                 0\n",
            "index                    0\n",
            "sexo                     0\n",
            "posse_de_veiculo         0\n",
            "posse_de_imovel          0\n",
            "qtd_filhos               0\n",
            "tipo_renda               0\n",
            "educacao                 0\n",
            "estado_civil             0\n",
            "tipo_residencia          0\n",
            "idade                    0\n",
            "tempo_emprego            0\n",
            "qt_pessoas_residencia    0\n",
            "renda                    0\n",
            "mau                      0\n",
            "dtype: int64\n"
          ]
        }
      ],
      "source": [
        "df['tempo_emprego'].fillna(df['tempo_emprego'].median(), inplace=True)\n",
        "\n",
        "categorical_columns = df.select_dtypes(include=['object']).columns\n",
        "\n",
        "for col in categorical_columns:\n",
        "    if df[col].isnull().sum() > 0:\n",
        "        df[col].fillna(df[col].mode()[0], inplace=True)\n",
        "\n",
        "print(df.isnull().sum())"
      ]
    },
    {
      "cell_type": "code",
      "execution_count": null,
      "metadata": {
        "colab": {
          "base_uri": "https://localhost:8080/"
        },
        "id": "vbbeUVhPRoxD",
        "outputId": "d7903a90-f7f4-4616-9b3b-575a3bdef9a6"
      },
      "outputs": [
        {
          "output_type": "stream",
          "name": "stdout",
          "text": [
            "0\n"
          ]
        }
      ],
      "source": [
        "print(df.isnull().sum().sum())"
      ]
    },
    {
      "cell_type": "markdown",
      "metadata": {
        "id": "r3gprnTG4sDL"
      },
      "source": [
        "### Remoção de outliers\n",
        "\n",
        "Como identificar outlier? Substituir o outlier por algum valor? Remover a linha?"
      ]
    },
    {
      "cell_type": "code",
      "execution_count": null,
      "metadata": {
        "colab": {
          "base_uri": "https://localhost:8080/"
        },
        "id": "WJK520zp4sDL",
        "outputId": "0952623f-4a7a-4a92-ba0b-6f07aea1b373"
      },
      "outputs": [
        {
          "output_type": "stream",
          "name": "stdout",
          "text": [
            "Número de outliers na variável 'renda': 79072\n"
          ]
        }
      ],
      "source": [
        "Q1 = df['renda'].quantile(0.25)\n",
        "Q3 = df['renda'].quantile(0.75)\n",
        "IQR = Q3 - Q1\n",
        "\n",
        "limite_inferior = Q1 - 1.5 * IQR\n",
        "limite_superior = Q3 + 1.5 * IQR\n",
        "\n",
        "outliers = df[(df['renda'] < limite_inferior) | (df['renda'] > limite_superior)]\n",
        "print(f\"Número de outliers na variável 'renda': {outliers.shape[0]}\")\n",
        "\n",
        "df_sem_outliers = df[(df['renda'] >= limite_inferior) & (df['renda'] <= limite_superior)]\n"
      ]
    },
    {
      "cell_type": "code",
      "execution_count": null,
      "metadata": {
        "id": "09ziJsuU4sDL"
      },
      "outputs": [],
      "source": [
        "df['renda'] = np.where(df['renda'] < limite_inferior, limite_inferior, df['renda'])\n",
        "df['renda'] = np.where(df['renda'] > limite_superior, limite_superior, df['renda'])"
      ]
    },
    {
      "cell_type": "markdown",
      "metadata": {
        "id": "Rbu2vp4OSDKW"
      },
      "source": [
        "Como os outliers encontrados na variável \"renda\" foram muito altos, eu optei pela substituição pelos limites."
      ]
    },
    {
      "cell_type": "markdown",
      "metadata": {
        "id": "K-xU3Y-M4sDM"
      },
      "source": [
        "### Seleção de variáveis\n",
        "\n",
        "Qual tipo de técnica? Boruta? Feature importance?"
      ]
    },
    {
      "cell_type": "code",
      "execution_count": null,
      "metadata": {
        "id": "pqAZTb7S4sDM"
      },
      "outputs": [],
      "source": [
        "categorical_cols = X_train.select_dtypes(include=['object']).columns\n",
        "numeric_cols = X_train.select_dtypes(exclude=['object']).columns\n",
        "\n",
        "numeric_imputer = SimpleImputer(strategy='mean')\n",
        "categorical_imputer = SimpleImputer(strategy='most_frequent')\n",
        "\n",
        "preprocessor = ColumnTransformer(\n",
        "    transformers=[\n",
        "        ('num', Pipeline(steps=[\n",
        "            ('imputer', numeric_imputer)]), numeric_cols),\n",
        "        ('cat', Pipeline(steps=[\n",
        "            ('imputer', categorical_imputer),\n",
        "            ('onehot', OneHotEncoder(drop='first'))]), categorical_cols)\n",
        "    ])\n",
        "\n",
        "pipeline = Pipeline(steps=[\n",
        "    ('preprocessor', preprocessor),\n",
        "    ('model', RandomForestClassifier(n_estimators=100, random_state=42))\n",
        "])\n",
        "\n",
        "pipeline.fit(X_train, y_train)\n",
        "\n",
        "y_train_pred = pipeline.predict(X_train)\n",
        "y_test_pred = pipeline.predict(X_test)\n"
      ]
    },
    {
      "cell_type": "code",
      "execution_count": null,
      "metadata": {
        "id": "qAjOHLZQ4sDM",
        "colab": {
          "base_uri": "https://localhost:8080/"
        },
        "outputId": "896deb57-fae1-40a8-9a44-bd81b2147706"
      },
      "outputs": [
        {
          "output_type": "stream",
          "name": "stdout",
          "text": [
            "Variáveis selecionadas pelo Boruta: ['num__renda']\n"
          ]
        }
      ],
      "source": [
        "X_train_transformed = pipeline.named_steps['preprocessor'].transform(X_train)\n",
        "\n",
        "feature_names = pipeline.named_steps['preprocessor'].get_feature_names_out()\n",
        "\n",
        "rf = RandomForestClassifier(n_estimators=10, random_state=42, n_jobs=-1)\n",
        "\n",
        "boruta_selector = BorutaPy(rf, n_estimators='auto', random_state=42)\n",
        "\n",
        "boruta_selector.fit(X_train_transformed, y_train)\n",
        "\n",
        "selected_features = feature_names[boruta_selector.support_].tolist()\n",
        "print(\"Variáveis selecionadas pelo Boruta:\", selected_features)"
      ]
    },
    {
      "cell_type": "markdown",
      "metadata": {
        "id": "0E1GaX9f4sDM"
      },
      "source": [
        "### Redução de dimensionalidade (PCA)\n",
        "\n",
        "Aplicar PCA para reduzir a dimensionalidade para 5"
      ]
    },
    {
      "cell_type": "code",
      "execution_count": null,
      "metadata": {
        "id": "pU1Us0Nk4sDM"
      },
      "outputs": [],
      "source": [
        "numeric_transformer = Pipeline(steps=[\n",
        "    ('imputer', SimpleImputer(strategy='mean')),\n",
        "    ('scaler', StandardScaler())\n",
        "])\n",
        "\n",
        "categorical_transformer = Pipeline(steps=[\n",
        "    ('imputer', SimpleImputer(strategy='most_frequent')),\n",
        "    ('onehot', OneHotEncoder(drop='first'))\n",
        "])\n",
        "\n",
        "categorical_cols = X_train.select_dtypes(include=['object']).columns\n",
        "numeric_cols = X_train.select_dtypes(exclude=['object']).columns\n",
        "\n",
        "preprocessor = ColumnTransformer(\n",
        "    transformers=[\n",
        "        ('num', Pipeline(steps=[\n",
        "            ('imputer', SimpleImputer(strategy='mean')),\n",
        "            ('scaler', StandardScaler()),\n",
        "            ('pca', PCA(n_components=5))\n",
        "        ]), numeric_cols),\n",
        "        ('cat', Pipeline(steps=[\n",
        "            ('imputer', SimpleImputer(strategy='most_frequent')),\n",
        "            ('onehot', OneHotEncoder(drop='first'))\n",
        "        ]), categorical_cols)\n",
        "    ])\n",
        "\n",
        "pipeline = Pipeline(steps=[\n",
        "    ('preprocessor', preprocessor),\n",
        "    ('model', RandomForestClassifier(n_estimators=100, random_state=42))\n",
        "])\n",
        "\n",
        "pipeline.fit(X_train, y_train)\n",
        "\n",
        "y_train_pred = pipeline.predict(X_train)\n",
        "y_test_pred = pipeline.predict(X_test)"
      ]
    },
    {
      "cell_type": "markdown",
      "metadata": {
        "id": "b_IvlJDa4sDN"
      },
      "source": [
        "### Criação de dummies\n",
        "\n",
        "Aplicar o get_dummies() ou onehotencoder() para transformar colunas catégoricas do dataframe em colunas de 0 e 1.\n",
        "- sexo\n",
        "- posse_de_veiculo\n",
        "- posse_de_imovel\n",
        "- tipo_renda\n",
        "- educacao\n",
        "- estado_civil\n",
        "- tipo_residencia"
      ]
    },
    {
      "cell_type": "code",
      "execution_count": null,
      "metadata": {
        "id": "ThYM7qAi4sDN",
        "colab": {
          "base_uri": "https://localhost:8080/"
        },
        "outputId": "7bdae5e5-35a1-4c09-8291-9e507051912f"
      },
      "outputs": [
        {
          "output_type": "stream",
          "name": "stdout",
          "text": [
            "    data_ref  index  qtd_filhos  idade  tempo_emprego  qt_pessoas_residencia  \\\n",
            "0 2015-01-01   5733           0     43       6.873973                    1.0   \n",
            "1 2015-01-01    727           0     35       4.526027                    2.0   \n",
            "2 2015-01-01   6374           2     31       0.816438                    4.0   \n",
            "3 2015-01-01   9566           0     54      12.772603                    2.0   \n",
            "4 2015-01-01   9502           0     31       8.432877                    1.0   \n",
            "\n",
            "      renda    mau  sexo_M  posse_de_veiculo_S  ...  educacao_Superior  \\\n",
            "0   2515.39  False   False               False  ...              False   \n",
            "1   3180.19  False   False                True  ...              False   \n",
            "2   1582.29  False   False               False  ...              False   \n",
            "3  13721.17  False   False               False  ...              False   \n",
            "4   2891.08  False   False                True  ...               True   \n",
            "\n",
            "   estado_civil_Separado  estado_civil_Solteiro  estado_civil_União  \\\n",
            "0                  False                   True               False   \n",
            "1                  False                  False               False   \n",
            "2                  False                  False               False   \n",
            "3                  False                  False               False   \n",
            "4                  False                   True               False   \n",
            "\n",
            "   estado_civil_Viúvo  tipo_residencia_Casa  tipo_residencia_Com os pais  \\\n",
            "0               False                  True                        False   \n",
            "1               False                  True                        False   \n",
            "2               False                  True                        False   \n",
            "3               False                  True                        False   \n",
            "4               False                  True                        False   \n",
            "\n",
            "   tipo_residencia_Comunitário  tipo_residencia_Estúdio  \\\n",
            "0                        False                    False   \n",
            "1                        False                    False   \n",
            "2                        False                    False   \n",
            "3                        False                    False   \n",
            "4                        False                    False   \n",
            "\n",
            "   tipo_residencia_Governamental  \n",
            "0                          False  \n",
            "1                          False  \n",
            "2                          False  \n",
            "3                          False  \n",
            "4                          False  \n",
            "\n",
            "[5 rows x 26 columns]\n"
          ]
        }
      ],
      "source": [
        "categorical_cols = ['sexo', 'posse_de_veiculo', 'posse_de_imovel', 'tipo_renda', 'educacao', 'estado_civil', 'tipo_residencia']\n",
        "\n",
        "df_dummies = pd.get_dummies(df, columns=categorical_cols, drop_first=True)\n",
        "\n",
        "print(df_dummies.head())\n"
      ]
    },
    {
      "cell_type": "code",
      "execution_count": null,
      "metadata": {
        "id": "ZFr0uQRg4sDN",
        "colab": {
          "base_uri": "https://localhost:8080/"
        },
        "outputId": "9d2500a9-98eb-4e91-d601-5bad6ec030b8"
      },
      "outputs": [
        {
          "output_type": "stream",
          "name": "stdout",
          "text": [
            "    data_ref  index  qtd_filhos  idade  tempo_emprego  qt_pessoas_residencia  \\\n",
            "0 2015-01-01   5733           0     43       6.873973                    1.0   \n",
            "1 2015-01-01    727           0     35       4.526027                    2.0   \n",
            "2 2015-01-01   6374           2     31       0.816438                    4.0   \n",
            "3 2015-01-01   9566           0     54      12.772603                    2.0   \n",
            "4 2015-01-01   9502           0     31       8.432877                    1.0   \n",
            "\n",
            "      renda    mau  sexo_M  posse_de_veiculo_S  ...  educacao_Superior  \\\n",
            "0   2515.39  False     0.0                 0.0  ...                0.0   \n",
            "1   3180.19  False     0.0                 1.0  ...                0.0   \n",
            "2   1582.29  False     0.0                 0.0  ...                0.0   \n",
            "3  13721.17  False     0.0                 0.0  ...                0.0   \n",
            "4   2891.08  False     0.0                 1.0  ...                1.0   \n",
            "\n",
            "   estado_civil_Separado  estado_civil_Solteiro  estado_civil_União  \\\n",
            "0                    0.0                    1.0                 0.0   \n",
            "1                    0.0                    0.0                 0.0   \n",
            "2                    0.0                    0.0                 0.0   \n",
            "3                    0.0                    0.0                 0.0   \n",
            "4                    0.0                    1.0                 0.0   \n",
            "\n",
            "   estado_civil_Viúvo  tipo_residencia_Casa  tipo_residencia_Com os pais  \\\n",
            "0                 0.0                   1.0                          0.0   \n",
            "1                 0.0                   1.0                          0.0   \n",
            "2                 0.0                   1.0                          0.0   \n",
            "3                 0.0                   1.0                          0.0   \n",
            "4                 0.0                   1.0                          0.0   \n",
            "\n",
            "   tipo_residencia_Comunitário  tipo_residencia_Estúdio  \\\n",
            "0                          0.0                      0.0   \n",
            "1                          0.0                      0.0   \n",
            "2                          0.0                      0.0   \n",
            "3                          0.0                      0.0   \n",
            "4                          0.0                      0.0   \n",
            "\n",
            "   tipo_residencia_Governamental  \n",
            "0                            0.0  \n",
            "1                            0.0  \n",
            "2                            0.0  \n",
            "3                            0.0  \n",
            "4                            0.0  \n",
            "\n",
            "[5 rows x 26 columns]\n"
          ]
        }
      ],
      "source": [
        "categorical_cols = ['sexo', 'posse_de_veiculo', 'posse_de_imovel', 'tipo_renda', 'educacao', 'estado_civil', 'tipo_residencia']\n",
        "\n",
        "encoder = OneHotEncoder(drop='first')\n",
        "\n",
        "encoded_data = encoder.fit_transform(df[categorical_cols])\n",
        "\n",
        "encoded_df = pd.DataFrame(encoded_data.toarray(), columns=encoder.get_feature_names_out(categorical_cols))\n",
        "\n",
        "df_encoded = pd.concat([df.drop(columns=categorical_cols), encoded_df], axis=1)\n",
        "\n",
        "print(df_encoded.head())"
      ]
    },
    {
      "cell_type": "markdown",
      "metadata": {
        "id": "Hv_YexOg4sDN"
      },
      "source": [
        "### Pipeline\n",
        "\n",
        "Crie um pipeline contendo essas funções.\n",
        "\n",
        "preprocessamento()\n",
        "- substituicao de nulos\n",
        "- remoção outliers\n",
        "- PCA\n",
        "- Criação de dummy de pelo menos 1 variável (posse_de_veiculo)"
      ]
    },
    {
      "cell_type": "code",
      "execution_count": null,
      "metadata": {
        "id": "LTPenui_4sDN",
        "colab": {
          "base_uri": "https://localhost:8080/"
        },
        "outputId": "168d0e19-4063-4f2b-938d-29903a490573"
      },
      "outputs": [
        {
          "output_type": "stream",
          "name": "stdout",
          "text": [
            "Number of columns in transformed data: 6\n",
            "Expected number of columns: 6\n",
            "        PC1       PC2       PC3       PC4       PC5  x0_S\n",
            "0 -1.058970 -1.024961 -0.481099 -0.606251  0.538596   0.0\n",
            "1  0.046827 -1.092688 -0.755905 -0.291679 -0.313192   1.0\n",
            "2  3.613326 -0.600146  0.471185  0.265832  0.145687   0.0\n",
            "3 -1.130589  0.659741  0.546949 -0.662889 -0.237763   0.0\n",
            "4 -0.637531 -0.859220 -1.467669 -0.934974  0.498093   1.0\n"
          ]
        }
      ],
      "source": [
        "class OutlierRemover(BaseEstimator, TransformerMixin):\n",
        "    def __init__(self, threshold=3):\n",
        "        self.threshold = threshold\n",
        "\n",
        "    def fit(self, X, y=None):\n",
        "        return self\n",
        "\n",
        "    def transform(self, X, y=None):\n",
        "        z_scores = np.abs((X - X.mean()) / X.std())\n",
        "        X_outlier_removed = X[(z_scores < self.threshold).all(axis=1)]\n",
        "        return X_outlier_removed\n",
        "\n",
        "categorical_cols = ['posse_de_veiculo']\n",
        "numeric_cols = ['qtd_filhos', 'idade', 'tempo_emprego', 'qt_pessoas_residencia', 'renda']\n",
        "\n",
        "numeric_pipeline = Pipeline(steps=[\n",
        "    ('imputer', SimpleImputer(strategy='mean')),\n",
        "    ('scaler', StandardScaler()),\n",
        "    ('pca', PCA(n_components=5))\n",
        "])\n",
        "\n",
        "categorical_pipeline = Pipeline(steps=[\n",
        "    ('imputer', SimpleImputer(strategy='most_frequent')),\n",
        "    ('onehot', OneHotEncoder(drop='first', sparse_output=False))\n",
        "])\n",
        "\n",
        "X_numeric = df[numeric_cols]\n",
        "X_categorical = df[categorical_cols]\n",
        "\n",
        "X_numeric_cleaned = OutlierRemover().fit_transform(X_numeric)\n",
        "\n",
        "X_numeric_transformed = numeric_pipeline.fit_transform(X_numeric_cleaned)\n",
        "\n",
        "X_categorical_transformed = categorical_pipeline.fit_transform(X_categorical)\n",
        "\n",
        "if X_numeric_cleaned.shape[0] != X_categorical.shape[0]:\n",
        "    raise ValueError(\"Número de linhas após a remoção de outliers não coincide com as variáveis categóricas\")\n",
        "\n",
        "df_transformed = np.hstack([X_numeric_transformed, X_categorical_transformed])\n",
        "\n",
        "numeric_column_names = [f'PC{i+1}' for i in range(X_numeric_transformed.shape[1])]\n",
        "categorical_column_names = categorical_pipeline.named_steps['onehot'].get_feature_names_out()\n",
        "\n",
        "print(f\"Number of columns in transformed data: {df_transformed.shape[1]}\")\n",
        "print(f\"Expected number of columns: {len(numeric_column_names) + len(categorical_column_names)}\")\n",
        "\n",
        "column_names = numeric_column_names + list(categorical_column_names)\n",
        "\n",
        "df_transformed = pd.DataFrame(df_transformed, columns=column_names)\n",
        "\n",
        "print(df_transformed.head())\n"
      ]
    },
    {
      "cell_type": "markdown",
      "metadata": {
        "id": "sXRjPhUl4sDN"
      },
      "source": [
        "### Treinar um modelo de regressão logistica com o resultado"
      ]
    },
    {
      "cell_type": "code",
      "execution_count": null,
      "metadata": {
        "id": "Lx49y6o84sDO",
        "colab": {
          "base_uri": "https://localhost:8080/"
        },
        "outputId": "2e4983cb-278a-4632-8738-83bf51da923a"
      },
      "outputs": [
        {
          "output_type": "stream",
          "name": "stdout",
          "text": [
            "Colunas do DataFrame: Index(['data_ref', 'index', 'sexo', 'posse_de_veiculo', 'posse_de_imovel',\n",
            "       'qtd_filhos', 'tipo_renda', 'educacao', 'estado_civil',\n",
            "       'tipo_residencia', 'idade', 'tempo_emprego', 'qt_pessoas_residencia',\n",
            "       'renda', 'mau'],\n",
            "      dtype='object')\n",
            "Colunas do DataFrame com alvo: Index(['data_ref', 'index', 'sexo', 'posse_de_veiculo', 'posse_de_imovel',\n",
            "       'qtd_filhos', 'tipo_renda', 'educacao', 'estado_civil',\n",
            "       'tipo_residencia', 'idade', 'tempo_emprego', 'qt_pessoas_residencia',\n",
            "       'renda', 'mau', 'target'],\n",
            "      dtype='object')\n"
          ]
        },
        {
          "output_type": "stream",
          "name": "stderr",
          "text": [
            "/usr/local/lib/python3.10/dist-packages/sklearn/metrics/_classification.py:1509: UndefinedMetricWarning: Precision is ill-defined and being set to 0.0 in labels with no predicted samples. Use `zero_division` parameter to control this behavior.\n",
            "  _warn_prf(average, modifier, f\"{metric.capitalize()} is\", len(result))\n",
            "/usr/local/lib/python3.10/dist-packages/sklearn/metrics/_classification.py:1509: UndefinedMetricWarning: Precision is ill-defined and being set to 0.0 in labels with no predicted samples. Use `zero_division` parameter to control this behavior.\n",
            "  _warn_prf(average, modifier, f\"{metric.capitalize()} is\", len(result))\n"
          ]
        },
        {
          "output_type": "stream",
          "name": "stdout",
          "text": [
            "Accuracy: 0.92\n",
            "Classification Report:\n",
            "              precision    recall  f1-score   support\n",
            "\n",
            "       False       0.92      1.00      0.96    207295\n",
            "        True       0.00      0.00      0.00     17705\n",
            "\n",
            "    accuracy                           0.92    225000\n",
            "   macro avg       0.46      0.50      0.48    225000\n",
            "weighted avg       0.85      0.92      0.88    225000\n",
            "\n"
          ]
        },
        {
          "output_type": "stream",
          "name": "stderr",
          "text": [
            "/usr/local/lib/python3.10/dist-packages/sklearn/metrics/_classification.py:1509: UndefinedMetricWarning: Precision is ill-defined and being set to 0.0 in labels with no predicted samples. Use `zero_division` parameter to control this behavior.\n",
            "  _warn_prf(average, modifier, f\"{metric.capitalize()} is\", len(result))\n"
          ]
        }
      ],
      "source": [
        "class OutlierRemover(BaseEstimator, TransformerMixin):\n",
        "    def __init__(self, threshold=3):\n",
        "        self.threshold = threshold\n",
        "\n",
        "    def fit(self, X, y=None):\n",
        "        return self\n",
        "\n",
        "    def transform(self, X, y=None):\n",
        "        z_scores = np.abs((X - X.mean()) / X.std())\n",
        "        X_outlier_removed = X[(z_scores < self.threshold).all(axis=1)]\n",
        "        return X_outlier_removed\n",
        "\n",
        "categorical_cols = ['posse_de_veiculo']\n",
        "numeric_cols = ['qtd_filhos', 'idade', 'tempo_emprego', 'qt_pessoas_residencia', 'renda']\n",
        "\n",
        "numeric_pipeline = Pipeline(steps=[\n",
        "    ('imputer', SimpleImputer(strategy='mean')),\n",
        "    ('scaler', StandardScaler()),\n",
        "    ('pca', PCA(n_components=5))\n",
        "])\n",
        "\n",
        "categorical_pipeline = Pipeline(steps=[\n",
        "    ('imputer', SimpleImputer(strategy='most_frequent')),\n",
        "    ('onehot', OneHotEncoder(drop='first', sparse_output=False))\n",
        "])\n",
        "\n",
        "print(\"Colunas do DataFrame:\", df.columns)\n",
        "\n",
        "df_with_target = df.copy()\n",
        "\n",
        "df_with_target['target'] = df_with_target['mau']\n",
        "\n",
        "print(\"Colunas do DataFrame com alvo:\", df_with_target.columns)\n",
        "\n",
        "X = df_with_target.drop(['mau', 'target'], axis=1)\n",
        "y = df_with_target['target']\n",
        "\n",
        "preprocessor = ColumnTransformer(\n",
        "    transformers=[\n",
        "        ('num', numeric_pipeline, numeric_cols),\n",
        "        ('cat', categorical_pipeline, categorical_cols)\n",
        "    ]\n",
        ")\n",
        "\n",
        "X_transformed = preprocessor.fit_transform(X)\n",
        "\n",
        "X_train, X_test, y_train, y_test = train_test_split(X_transformed, y, test_size=0.3, random_state=42)\n",
        "\n",
        "model = LogisticRegression(max_iter=1000)\n",
        "model.fit(X_train, y_train)\n",
        "\n",
        "y_pred = model.predict(X_test)\n",
        "\n",
        "accuracy = accuracy_score(y_test, y_pred)\n",
        "report = classification_report(y_test, y_pred)\n",
        "\n",
        "print(f'Accuracy: {accuracy:.2f}')\n",
        "print('Classification Report:')\n",
        "print(report)\n"
      ]
    },
    {
      "cell_type": "markdown",
      "metadata": {
        "id": "0CMc1b0S4sDO"
      },
      "source": [
        "### Salvar o pickle file do modelo treinado"
      ]
    },
    {
      "cell_type": "code",
      "execution_count": null,
      "metadata": {
        "id": "KFWbkC0t4sDO"
      },
      "outputs": [],
      "source": [
        "import pickle\n",
        "\n",
        "nome_arquivo = 'model_final.pkl'\n",
        "pickle.dump(model, open(nome_arquivo, 'wb'))"
      ]
    },
    {
      "cell_type": "markdown",
      "metadata": {
        "id": "sZ0CKKrO4sDP"
      },
      "source": [
        "# Pycaret na base de dados\n",
        "\n",
        "Utilize o pycaret para pre processar os dados e rodar o modelo **lightgbm**. Faça todos os passos a passos da aula e gere os gráficos finais. E o pipeline de toda a transformação.\n",
        "\n"
      ]
    },
    {
      "cell_type": "code",
      "execution_count": null,
      "metadata": {
        "id": "wvnQm2wH4sDP",
        "outputId": "2afb9795-1c0f-421c-fcdd-1fd1dd2805c5",
        "colab": {
          "base_uri": "https://localhost:8080/",
          "height": 313
        }
      },
      "outputs": [
        {
          "output_type": "execute_result",
          "data": {
            "text/plain": [
              "    data_ref  index sexo posse_de_veiculo posse_de_imovel  qtd_filhos  \\\n",
              "0 2015-01-01   5733    F                N               N           0   \n",
              "1 2015-01-01    727    F                S               S           0   \n",
              "2 2015-01-01   6374    F                N               N           2   \n",
              "3 2015-01-01   9566    F                N               N           0   \n",
              "4 2015-01-01   9502    F                S               N           0   \n",
              "\n",
              "    tipo_renda             educacao estado_civil tipo_residencia  idade  \\\n",
              "0   Empresário                Médio     Solteiro            Casa     43   \n",
              "1  Assalariado                Médio       Casado            Casa     35   \n",
              "2  Assalariado                Médio       Casado            Casa     31   \n",
              "3  Assalariado                Médio       Casado            Casa     54   \n",
              "4  Assalariado  Superior incompleto     Solteiro            Casa     31   \n",
              "\n",
              "   tempo_emprego  qt_pessoas_residencia     renda    mau  \n",
              "0       6.873973                    1.0   2515.39  False  \n",
              "1       4.526027                    2.0   3180.19  False  \n",
              "2       0.243836                    4.0   1582.29  False  \n",
              "3      12.772603                    2.0  13721.17  False  \n",
              "4       8.432877                    1.0   2891.08  False  "
            ],
            "text/html": [
              "\n",
              "  <div id=\"df-20b9d89e-d82b-41b2-97ee-b59c9a279bc6\" class=\"colab-df-container\">\n",
              "    <div>\n",
              "<style scoped>\n",
              "    .dataframe tbody tr th:only-of-type {\n",
              "        vertical-align: middle;\n",
              "    }\n",
              "\n",
              "    .dataframe tbody tr th {\n",
              "        vertical-align: top;\n",
              "    }\n",
              "\n",
              "    .dataframe thead th {\n",
              "        text-align: right;\n",
              "    }\n",
              "</style>\n",
              "<table border=\"1\" class=\"dataframe\">\n",
              "  <thead>\n",
              "    <tr style=\"text-align: right;\">\n",
              "      <th></th>\n",
              "      <th>data_ref</th>\n",
              "      <th>index</th>\n",
              "      <th>sexo</th>\n",
              "      <th>posse_de_veiculo</th>\n",
              "      <th>posse_de_imovel</th>\n",
              "      <th>qtd_filhos</th>\n",
              "      <th>tipo_renda</th>\n",
              "      <th>educacao</th>\n",
              "      <th>estado_civil</th>\n",
              "      <th>tipo_residencia</th>\n",
              "      <th>idade</th>\n",
              "      <th>tempo_emprego</th>\n",
              "      <th>qt_pessoas_residencia</th>\n",
              "      <th>renda</th>\n",
              "      <th>mau</th>\n",
              "    </tr>\n",
              "  </thead>\n",
              "  <tbody>\n",
              "    <tr>\n",
              "      <th>0</th>\n",
              "      <td>2015-01-01</td>\n",
              "      <td>5733</td>\n",
              "      <td>F</td>\n",
              "      <td>N</td>\n",
              "      <td>N</td>\n",
              "      <td>0</td>\n",
              "      <td>Empresário</td>\n",
              "      <td>Médio</td>\n",
              "      <td>Solteiro</td>\n",
              "      <td>Casa</td>\n",
              "      <td>43</td>\n",
              "      <td>6.873973</td>\n",
              "      <td>1.0</td>\n",
              "      <td>2515.39</td>\n",
              "      <td>False</td>\n",
              "    </tr>\n",
              "    <tr>\n",
              "      <th>1</th>\n",
              "      <td>2015-01-01</td>\n",
              "      <td>727</td>\n",
              "      <td>F</td>\n",
              "      <td>S</td>\n",
              "      <td>S</td>\n",
              "      <td>0</td>\n",
              "      <td>Assalariado</td>\n",
              "      <td>Médio</td>\n",
              "      <td>Casado</td>\n",
              "      <td>Casa</td>\n",
              "      <td>35</td>\n",
              "      <td>4.526027</td>\n",
              "      <td>2.0</td>\n",
              "      <td>3180.19</td>\n",
              "      <td>False</td>\n",
              "    </tr>\n",
              "    <tr>\n",
              "      <th>2</th>\n",
              "      <td>2015-01-01</td>\n",
              "      <td>6374</td>\n",
              "      <td>F</td>\n",
              "      <td>N</td>\n",
              "      <td>N</td>\n",
              "      <td>2</td>\n",
              "      <td>Assalariado</td>\n",
              "      <td>Médio</td>\n",
              "      <td>Casado</td>\n",
              "      <td>Casa</td>\n",
              "      <td>31</td>\n",
              "      <td>0.243836</td>\n",
              "      <td>4.0</td>\n",
              "      <td>1582.29</td>\n",
              "      <td>False</td>\n",
              "    </tr>\n",
              "    <tr>\n",
              "      <th>3</th>\n",
              "      <td>2015-01-01</td>\n",
              "      <td>9566</td>\n",
              "      <td>F</td>\n",
              "      <td>N</td>\n",
              "      <td>N</td>\n",
              "      <td>0</td>\n",
              "      <td>Assalariado</td>\n",
              "      <td>Médio</td>\n",
              "      <td>Casado</td>\n",
              "      <td>Casa</td>\n",
              "      <td>54</td>\n",
              "      <td>12.772603</td>\n",
              "      <td>2.0</td>\n",
              "      <td>13721.17</td>\n",
              "      <td>False</td>\n",
              "    </tr>\n",
              "    <tr>\n",
              "      <th>4</th>\n",
              "      <td>2015-01-01</td>\n",
              "      <td>9502</td>\n",
              "      <td>F</td>\n",
              "      <td>S</td>\n",
              "      <td>N</td>\n",
              "      <td>0</td>\n",
              "      <td>Assalariado</td>\n",
              "      <td>Superior incompleto</td>\n",
              "      <td>Solteiro</td>\n",
              "      <td>Casa</td>\n",
              "      <td>31</td>\n",
              "      <td>8.432877</td>\n",
              "      <td>1.0</td>\n",
              "      <td>2891.08</td>\n",
              "      <td>False</td>\n",
              "    </tr>\n",
              "  </tbody>\n",
              "</table>\n",
              "</div>\n",
              "    <div class=\"colab-df-buttons\">\n",
              "\n",
              "  <div class=\"colab-df-container\">\n",
              "    <button class=\"colab-df-convert\" onclick=\"convertToInteractive('df-20b9d89e-d82b-41b2-97ee-b59c9a279bc6')\"\n",
              "            title=\"Convert this dataframe to an interactive table.\"\n",
              "            style=\"display:none;\">\n",
              "\n",
              "  <svg xmlns=\"http://www.w3.org/2000/svg\" height=\"24px\" viewBox=\"0 -960 960 960\">\n",
              "    <path d=\"M120-120v-720h720v720H120Zm60-500h600v-160H180v160Zm220 220h160v-160H400v160Zm0 220h160v-160H400v160ZM180-400h160v-160H180v160Zm440 0h160v-160H620v160ZM180-180h160v-160H180v160Zm440 0h160v-160H620v160Z\"/>\n",
              "  </svg>\n",
              "    </button>\n",
              "\n",
              "  <style>\n",
              "    .colab-df-container {\n",
              "      display:flex;\n",
              "      gap: 12px;\n",
              "    }\n",
              "\n",
              "    .colab-df-convert {\n",
              "      background-color: #E8F0FE;\n",
              "      border: none;\n",
              "      border-radius: 50%;\n",
              "      cursor: pointer;\n",
              "      display: none;\n",
              "      fill: #1967D2;\n",
              "      height: 32px;\n",
              "      padding: 0 0 0 0;\n",
              "      width: 32px;\n",
              "    }\n",
              "\n",
              "    .colab-df-convert:hover {\n",
              "      background-color: #E2EBFA;\n",
              "      box-shadow: 0px 1px 2px rgba(60, 64, 67, 0.3), 0px 1px 3px 1px rgba(60, 64, 67, 0.15);\n",
              "      fill: #174EA6;\n",
              "    }\n",
              "\n",
              "    .colab-df-buttons div {\n",
              "      margin-bottom: 4px;\n",
              "    }\n",
              "\n",
              "    [theme=dark] .colab-df-convert {\n",
              "      background-color: #3B4455;\n",
              "      fill: #D2E3FC;\n",
              "    }\n",
              "\n",
              "    [theme=dark] .colab-df-convert:hover {\n",
              "      background-color: #434B5C;\n",
              "      box-shadow: 0px 1px 3px 1px rgba(0, 0, 0, 0.15);\n",
              "      filter: drop-shadow(0px 1px 2px rgba(0, 0, 0, 0.3));\n",
              "      fill: #FFFFFF;\n",
              "    }\n",
              "  </style>\n",
              "\n",
              "    <script>\n",
              "      const buttonEl =\n",
              "        document.querySelector('#df-20b9d89e-d82b-41b2-97ee-b59c9a279bc6 button.colab-df-convert');\n",
              "      buttonEl.style.display =\n",
              "        google.colab.kernel.accessAllowed ? 'block' : 'none';\n",
              "\n",
              "      async function convertToInteractive(key) {\n",
              "        const element = document.querySelector('#df-20b9d89e-d82b-41b2-97ee-b59c9a279bc6');\n",
              "        const dataTable =\n",
              "          await google.colab.kernel.invokeFunction('convertToInteractive',\n",
              "                                                    [key], {});\n",
              "        if (!dataTable) return;\n",
              "\n",
              "        const docLinkHtml = 'Like what you see? Visit the ' +\n",
              "          '<a target=\"_blank\" href=https://colab.research.google.com/notebooks/data_table.ipynb>data table notebook</a>'\n",
              "          + ' to learn more about interactive tables.';\n",
              "        element.innerHTML = '';\n",
              "        dataTable['output_type'] = 'display_data';\n",
              "        await google.colab.output.renderOutput(dataTable, element);\n",
              "        const docLink = document.createElement('div');\n",
              "        docLink.innerHTML = docLinkHtml;\n",
              "        element.appendChild(docLink);\n",
              "      }\n",
              "    </script>\n",
              "  </div>\n",
              "\n",
              "\n",
              "<div id=\"df-f3f0a796-3aa6-4004-93f8-9534050acab5\">\n",
              "  <button class=\"colab-df-quickchart\" onclick=\"quickchart('df-f3f0a796-3aa6-4004-93f8-9534050acab5')\"\n",
              "            title=\"Suggest charts\"\n",
              "            style=\"display:none;\">\n",
              "\n",
              "<svg xmlns=\"http://www.w3.org/2000/svg\" height=\"24px\"viewBox=\"0 0 24 24\"\n",
              "     width=\"24px\">\n",
              "    <g>\n",
              "        <path d=\"M19 3H5c-1.1 0-2 .9-2 2v14c0 1.1.9 2 2 2h14c1.1 0 2-.9 2-2V5c0-1.1-.9-2-2-2zM9 17H7v-7h2v7zm4 0h-2V7h2v10zm4 0h-2v-4h2v4z\"/>\n",
              "    </g>\n",
              "</svg>\n",
              "  </button>\n",
              "\n",
              "<style>\n",
              "  .colab-df-quickchart {\n",
              "      --bg-color: #E8F0FE;\n",
              "      --fill-color: #1967D2;\n",
              "      --hover-bg-color: #E2EBFA;\n",
              "      --hover-fill-color: #174EA6;\n",
              "      --disabled-fill-color: #AAA;\n",
              "      --disabled-bg-color: #DDD;\n",
              "  }\n",
              "\n",
              "  [theme=dark] .colab-df-quickchart {\n",
              "      --bg-color: #3B4455;\n",
              "      --fill-color: #D2E3FC;\n",
              "      --hover-bg-color: #434B5C;\n",
              "      --hover-fill-color: #FFFFFF;\n",
              "      --disabled-bg-color: #3B4455;\n",
              "      --disabled-fill-color: #666;\n",
              "  }\n",
              "\n",
              "  .colab-df-quickchart {\n",
              "    background-color: var(--bg-color);\n",
              "    border: none;\n",
              "    border-radius: 50%;\n",
              "    cursor: pointer;\n",
              "    display: none;\n",
              "    fill: var(--fill-color);\n",
              "    height: 32px;\n",
              "    padding: 0;\n",
              "    width: 32px;\n",
              "  }\n",
              "\n",
              "  .colab-df-quickchart:hover {\n",
              "    background-color: var(--hover-bg-color);\n",
              "    box-shadow: 0 1px 2px rgba(60, 64, 67, 0.3), 0 1px 3px 1px rgba(60, 64, 67, 0.15);\n",
              "    fill: var(--button-hover-fill-color);\n",
              "  }\n",
              "\n",
              "  .colab-df-quickchart-complete:disabled,\n",
              "  .colab-df-quickchart-complete:disabled:hover {\n",
              "    background-color: var(--disabled-bg-color);\n",
              "    fill: var(--disabled-fill-color);\n",
              "    box-shadow: none;\n",
              "  }\n",
              "\n",
              "  .colab-df-spinner {\n",
              "    border: 2px solid var(--fill-color);\n",
              "    border-color: transparent;\n",
              "    border-bottom-color: var(--fill-color);\n",
              "    animation:\n",
              "      spin 1s steps(1) infinite;\n",
              "  }\n",
              "\n",
              "  @keyframes spin {\n",
              "    0% {\n",
              "      border-color: transparent;\n",
              "      border-bottom-color: var(--fill-color);\n",
              "      border-left-color: var(--fill-color);\n",
              "    }\n",
              "    20% {\n",
              "      border-color: transparent;\n",
              "      border-left-color: var(--fill-color);\n",
              "      border-top-color: var(--fill-color);\n",
              "    }\n",
              "    30% {\n",
              "      border-color: transparent;\n",
              "      border-left-color: var(--fill-color);\n",
              "      border-top-color: var(--fill-color);\n",
              "      border-right-color: var(--fill-color);\n",
              "    }\n",
              "    40% {\n",
              "      border-color: transparent;\n",
              "      border-right-color: var(--fill-color);\n",
              "      border-top-color: var(--fill-color);\n",
              "    }\n",
              "    60% {\n",
              "      border-color: transparent;\n",
              "      border-right-color: var(--fill-color);\n",
              "    }\n",
              "    80% {\n",
              "      border-color: transparent;\n",
              "      border-right-color: var(--fill-color);\n",
              "      border-bottom-color: var(--fill-color);\n",
              "    }\n",
              "    90% {\n",
              "      border-color: transparent;\n",
              "      border-bottom-color: var(--fill-color);\n",
              "    }\n",
              "  }\n",
              "</style>\n",
              "\n",
              "  <script>\n",
              "    async function quickchart(key) {\n",
              "      const quickchartButtonEl =\n",
              "        document.querySelector('#' + key + ' button');\n",
              "      quickchartButtonEl.disabled = true;  // To prevent multiple clicks.\n",
              "      quickchartButtonEl.classList.add('colab-df-spinner');\n",
              "      try {\n",
              "        const charts = await google.colab.kernel.invokeFunction(\n",
              "            'suggestCharts', [key], {});\n",
              "      } catch (error) {\n",
              "        console.error('Error during call to suggestCharts:', error);\n",
              "      }\n",
              "      quickchartButtonEl.classList.remove('colab-df-spinner');\n",
              "      quickchartButtonEl.classList.add('colab-df-quickchart-complete');\n",
              "    }\n",
              "    (() => {\n",
              "      let quickchartButtonEl =\n",
              "        document.querySelector('#df-f3f0a796-3aa6-4004-93f8-9534050acab5 button');\n",
              "      quickchartButtonEl.style.display =\n",
              "        google.colab.kernel.accessAllowed ? 'block' : 'none';\n",
              "    })();\n",
              "  </script>\n",
              "</div>\n",
              "\n",
              "    </div>\n",
              "  </div>\n"
            ],
            "application/vnd.google.colaboratory.intrinsic+json": {
              "type": "dataframe",
              "variable_name": "df"
            }
          },
          "metadata": {},
          "execution_count": 43
        }
      ],
      "source": [
        "import pandas as pd\n",
        "\n",
        "df = pd.read_feather('credit_scoring.ftr')\n",
        "df.head()"
      ]
    },
    {
      "cell_type": "code",
      "execution_count": null,
      "metadata": {
        "id": "mvsJD8wo4sDQ"
      },
      "outputs": [],
      "source": [
        "from pycaret.classification import *"
      ]
    },
    {
      "cell_type": "code",
      "execution_count": null,
      "metadata": {
        "id": "-eQQntXa4sDQ",
        "colab": {
          "base_uri": "https://localhost:8080/",
          "height": 1000,
          "referenced_widgets": [
            "4bfc47ed817c45499d3b601df3e5f521",
            "7cafe1e0b8494b0b8e202cd040d63e72",
            "b9d975647a5c4e21b742bd1a7c6b00e5",
            "22537ac77b274da19521eb245637de56",
            "4c9e3efed7724b1691b91b026193b04c",
            "af5e5b46d75c4235a57e4332f332aeb7",
            "f6025e0c20ec4cb690f9e02a85f91aac",
            "2cec97ca33844e3caf981268fbd6f277",
            "8414f0892f5449b8a43e1f1c70e95762",
            "d36c050212c746debe02d690b80dfc11",
            "36f32ba4ddce45718a2aa466ecefbdc9",
            "ecf31a8b6d024a39adb48db8a557d380",
            "71dbe176b11949f6a5bfd71633108e90",
            "25e134536e6e4c1aa6bb86d0e7a22fa6",
            "29dbd5b3798f473188df6224ca2fe2ae",
            "f32d5930b87e42bebaed790834680a5c",
            "31a6757fb47b49da93161c9c72a6fefa",
            "dba66edc84e84010a8df3ad20589c740",
            "5e84d1733ae7428d9ebd8fce2b7bb0a9"
          ]
        },
        "outputId": "aec75608-4f7e-41db-8dea-208f01bc1b4a"
      },
      "outputs": [
        {
          "output_type": "display_data",
          "data": {
            "text/plain": [
              "<Figure size 2700x600 with 1 Axes>"
            ],
            "image/png": "[encoded data removed]"
          },
          "metadata": {}
        },
        {
          "output_type": "stream",
          "name": "stdout",
          "text": [
            "Pipeline(memory=FastMemory(location=/tmp/joblib),\n",
            "         steps=[('numerical_imputer',\n",
            "                 TransformerWrapper(exclude=None,\n",
            "                                    include=['qtd_filhos', 'idade',\n",
            "                                             'tempo_emprego',\n",
            "                                             'qt_pessoas_residencia', 'renda'],\n",
            "                                    transformer=SimpleImputer(add_indicator=False,\n",
            "                                                              copy=True,\n",
            "                                                              fill_value=None,\n",
            "                                                              keep_empty_features=False,\n",
            "                                                              missing_values=nan,\n",
            "                                                              strategy='mean'))),\n",
            "                ('categorical_imputer',\n",
            "                 Tra...\n",
            "                                    transformer=OneHotEncoder(cols=['tipo_renda',\n",
            "                                                                    'educacao',\n",
            "                                                                    'estado_civil',\n",
            "                                                                    'tipo_residencia'],\n",
            "                                                              drop_invariant=False,\n",
            "                                                              handle_missing='return_nan',\n",
            "                                                              handle_unknown='value',\n",
            "                                                              return_df=True,\n",
            "                                                              use_cat_names=True,\n",
            "                                                              verbose=0))),\n",
            "                ('normalize',\n",
            "                 TransformerWrapper(exclude=None, include=None,\n",
            "                                    transformer=StandardScaler(copy=True,\n",
            "                                                               with_mean=True,\n",
            "                                                               with_std=True)))],\n",
            "         verbose=False)\n"
          ]
        },
        {
          "output_type": "display_data",
          "data": {
            "text/plain": [
              "<pandas.io.formats.style.Styler at 0x7b2f34d35660>"
            ],
            "text/html": [
              "<style type=\"text/css\">\n",
              "</style>\n",
              "<table id=\"T_5eb50\" class=\"dataframe\">\n",
              "  <thead>\n",
              "    <tr>\n",
              "      <th class=\"blank level0\" >&nbsp;</th>\n",
              "      <th id=\"T_5eb50_level0_col0\" class=\"col_heading level0 col0\" >Model</th>\n",
              "      <th id=\"T_5eb50_level0_col1\" class=\"col_heading level0 col1\" >Accuracy</th>\n",
              "      <th id=\"T_5eb50_level0_col2\" class=\"col_heading level0 col2\" >AUC</th>\n",
              "      <th id=\"T_5eb50_level0_col3\" class=\"col_heading level0 col3\" >Recall</th>\n",
              "      <th id=\"T_5eb50_level0_col4\" class=\"col_heading level0 col4\" >Prec.</th>\n",
              "      <th id=\"T_5eb50_level0_col5\" class=\"col_heading level0 col5\" >F1</th>\n",
              "      <th id=\"T_5eb50_level0_col6\" class=\"col_heading level0 col6\" >Kappa</th>\n",
              "      <th id=\"T_5eb50_level0_col7\" class=\"col_heading level0 col7\" >MCC</th>\n",
              "    </tr>\n",
              "  </thead>\n",
              "  <tbody>\n",
              "    <tr>\n",
              "      <th id=\"T_5eb50_level0_row0\" class=\"row_heading level0 row0\" >0</th>\n",
              "      <td id=\"T_5eb50_row0_col0\" class=\"data row0 col0\" >Light Gradient Boosting Machine</td>\n",
              "      <td id=\"T_5eb50_row0_col1\" class=\"data row0 col1\" >0.9220</td>\n",
              "      <td id=\"T_5eb50_row0_col2\" class=\"data row0 col2\" >0.7811</td>\n",
              "      <td id=\"T_5eb50_row0_col3\" class=\"data row0 col3\" >0.0296</td>\n",
              "      <td id=\"T_5eb50_row0_col4\" class=\"data row0 col4\" >0.5164</td>\n",
              "      <td id=\"T_5eb50_row0_col5\" class=\"data row0 col5\" >0.0560</td>\n",
              "      <td id=\"T_5eb50_row0_col6\" class=\"data row0 col6\" >0.0479</td>\n",
              "      <td id=\"T_5eb50_row0_col7\" class=\"data row0 col7\" >0.1095</td>\n",
              "    </tr>\n",
              "  </tbody>\n",
              "</table>\n"
            ]
          },
          "metadata": {}
        },
        {
          "output_type": "stream",
          "name": "stdout",
          "text": [
            "    data_ref  index sexo posse_de_veiculo posse_de_imovel  qtd_filhos  \\\n",
            "0 2015-01-01   5733    F                N               N           0   \n",
            "1 2015-01-01    727    F                S               S           0   \n",
            "2 2015-01-01   6374    F                N               N           2   \n",
            "3 2015-01-01   9566    F                N               N           0   \n",
            "4 2015-01-01   9502    F                S               N           0   \n",
            "\n",
            "    tipo_renda             educacao estado_civil tipo_residencia  idade  \\\n",
            "0   Empresário                Médio     Solteiro            Casa     43   \n",
            "1  Assalariado                Médio       Casado            Casa     35   \n",
            "2  Assalariado                Médio       Casado            Casa     31   \n",
            "3  Assalariado                Médio       Casado            Casa     54   \n",
            "4  Assalariado  Superior incompleto     Solteiro            Casa     31   \n",
            "\n",
            "   tempo_emprego  qt_pessoas_residencia         renda    mau  \\\n",
            "0       6.873972                    1.0   2515.389893  False   \n",
            "1       4.526027                    2.0   3180.189941  False   \n",
            "2       0.243836                    4.0   1582.290039  False   \n",
            "3      12.772603                    2.0  13721.169922  False   \n",
            "4       8.432877                    1.0   2891.080078  False   \n",
            "\n",
            "   prediction_label  prediction_score  \n",
            "0                 0            0.8664  \n",
            "1                 0            0.8914  \n",
            "2                 0            0.7698  \n",
            "3                 0            0.9809  \n",
            "4                 0            0.8750  \n"
          ]
        }
      ],
      "source": [
        "# Carregando o dataframe e ajustando tipos categóricos\n",
        "df['sexo'] = df['sexo'].astype('category')\n",
        "df['posse_de_veiculo'] = df['posse_de_veiculo'].astype('category')\n",
        "df['posse_de_imovel'] = df['posse_de_imovel'].astype('category')\n",
        "df['tipo_renda'] = df['tipo_renda'].astype('category')\n",
        "df['educacao'] = df['educacao'].astype('category')\n",
        "df['estado_civil'] = df['estado_civil'].astype('category')\n",
        "df['tipo_residencia'] = df['tipo_residencia'].astype('category')\n",
        "\n",
        "# Amostragem: usar apenas 10% dos dados para melhorar a performance\n",
        "df_sample = df.sample(frac=0.1, random_state=42)\n",
        "\n",
        "# Configuração do PyCaret com melhorias de performance\n",
        "clf = setup(data=df_sample,\n",
        "            target='mau',\n",
        "            categorical_features=['sexo', 'posse_de_veiculo', 'posse_de_imovel', 'tipo_renda', 'educacao', 'estado_civil', 'tipo_residencia'],\n",
        "            numeric_features=['qtd_filhos', 'idade', 'tempo_emprego', 'qt_pessoas_residencia', 'renda'],\n",
        "            ignore_features=['data_ref', 'index'],\n",
        "            session_id=42,\n",
        "            normalize=True,\n",
        "            remove_outliers=False,  # Não remover outliers para melhorar a performance\n",
        "            feature_selection=False,  # Desativar a seleção de variáveis para melhorar o tempo\n",
        "            verbose=False)  # Reduzir a saída\n",
        "\n",
        "# Comparar apenas alguns modelos para melhorar a performance\n",
        "best_model = compare_models(include=['lightgbm', 'rf', 'xgboost'], n_select=1)\n",
        "\n",
        "# Criar e treinar o modelo LightGBM\n",
        "lgbm_model = create_model('lightgbm')\n",
        "\n",
        "# Avaliar o modelo\n",
        "evaluate_model(lgbm_model)\n",
        "\n",
        "# Finalizar o modelo\n",
        "final_model = finalize_model(lgbm_model)\n",
        "\n",
        "# Obter o pipeline treinado\n",
        "pipeline = get_config('pipeline')\n",
        "print(pipeline)\n",
        "\n",
        "new_data = pd.read_feather('credit_scoring.ftr')\n",
        "predictions = predict_model(final_model, data=new_data)\n",
        "\n",
        "# Exibir as primeiras previsões\n",
        "print(predictions.head())\n"
      ]
    },
    {
      "cell_type": "markdown",
      "metadata": {
        "id": "n8yWGBcS4sDQ"
      },
      "source": [
        "### Salvar o arquivo do modelo treinado"
      ]
    },
    {
      "cell_type": "code",
      "execution_count": null,
      "metadata": {
        "id": "F7moAWRn4sDR",
        "colab": {
          "base_uri": "https://localhost:8080/"
        },
        "outputId": "2279b582-5a2a-4b7c-dc5c-86f1e99cd32c"
      },
      "outputs": [
        {
          "output_type": "stream",
          "name": "stdout",
          "text": [
            "Transformation Pipeline and Model Successfully Saved\n"
          ]
        },
        {
          "output_type": "execute_result",
          "data": {
            "text/plain": [
              "(Pipeline(memory=Memory(location=None),\n",
              "          steps=[('numerical_imputer',\n",
              "                  TransformerWrapper(exclude=None,\n",
              "                                     include=['qtd_filhos', 'idade',\n",
              "                                              'tempo_emprego',\n",
              "                                              'qt_pessoas_residencia', 'renda'],\n",
              "                                     transformer=SimpleImputer(add_indicator=False,\n",
              "                                                               copy=True,\n",
              "                                                               fill_value=None,\n",
              "                                                               keep_empty_features=False,\n",
              "                                                               missing_values=nan,\n",
              "                                                               strategy='mean'))),\n",
              "                 ('categorical_imputer',\n",
              "                  TransformerWra...\n",
              "                  LGBMClassifier(boosting_type='gbdt', class_weight=None,\n",
              "                                 colsample_bytree=1.0, importance_type='split',\n",
              "                                 learning_rate=0.1, max_depth=-1,\n",
              "                                 min_child_samples=20, min_child_weight=0.001,\n",
              "                                 min_split_gain=0.0, n_estimators=100, n_jobs=-1,\n",
              "                                 num_leaves=31, objective=None, random_state=42,\n",
              "                                 reg_alpha=0.0, reg_lambda=0.0, subsample=1.0,\n",
              "                                 subsample_for_bin=200000, subsample_freq=0))],\n",
              "          verbose=False),\n",
              " 'modelo_treinado.pkl')"
            ]
          },
          "metadata": {},
          "execution_count": 50
        }
      ],
      "source": [
        "# Salvando o modelo treinado\n",
        "save_model(final_model, 'modelo_treinado')"
      ]
    },
    {
      "cell_type": "markdown",
      "metadata": {
        "id": "tlF2FpOS4sDR"
      },
      "source": [
        "# Projeto Final\n",
        "\n",
        "1. Subir no GITHUB todos os jupyter notebooks/códigos que você desenvolveu nesse ultimo módulo\n",
        "1. Gerar um arquivo python (.py) com todas as funções necessárias para rodar no streamlit a escoragem do arquivo de treino\n",
        "    - Criar um .py\n",
        "    - Criar um carregador de csv no streamlit\n",
        "    - Subir um csv no streamlit\n",
        "    - Criar um pipeline de pré processamento dos dados\n",
        "    - Utilizar o modelo treinado para escorar a base\n",
        "        - nome_arquivo = 'model_final.pkl'\n",
        "1. Gravar um vídeo da tela do streamlit em funcionamento (usando o próprio streamlit (temos aula disso) ou qlqr outra forma de gravação).\n",
        "1. Subir no Github o vídeo de funcionamento da ferramenta como README.md.\n",
        "1. Subir no Github os códigos desenvolvidos.\n",
        "1. Enviar links do github para o tutor corrigir."
      ]
    }
  ],
  "metadata": {
    "colab": {
      "provenance": []
    },
    "kernelspec": {
      "display_name": "Python 3",
      "language": "python",
      "name": "python3"
    },
    "language_info": {
      "codemirror_mode": {
        "name": "ipython",
        "version": 3
      },
      "file_extension": ".py",
      "mimetype": "text/x-python",
      "name": "python",
      "nbconvert_exporter": "python",
      "pygments_lexer": "ipython3",
      "version": "3.8.7"
    },
    "toc": {
      "base_numbering": 1,
      "nav_menu": {},
      "number_sections": false,
      "sideBar": true,
      "skip_h1_title": true,
      "title_cell": "Índice",
      "title_sidebar": "Conteúdo",
      "toc_cell": false,
      "toc_position": {},
      "toc_section_display": true,
      "toc_window_display": false
    },
    "varInspector": {
      "cols": {
        "lenName": 16,
        "lenType": 16,
        "lenVar": 40
      },
      "kernels_config": {
        "python": {
          "delete_cmd_postfix": "",
          "delete_cmd_prefix": "del ",
          "library": "var_list.py",
          "varRefreshCmd": "print(var_dic_list())"
        },
        "r": {
          "delete_cmd_postfix": ") ",
          "delete_cmd_prefix": "rm(",
          "library": "var_list.r",
          "varRefreshCmd": "cat(var_dic_list()) "
        }
      },
      "types_to_exclude": [
        "module",
        "function",
        "builtin_function_or_method",
        "instance",
        "_Feature"
      ],
      "window_display": false
    },
    "widgets": {
      "application/vnd.jupyter.widget-state+json": {
        "7cafe1e0b8494b0b8e202cd040d63e72": {
          "model_module": "@jupyter-widgets/base",
          "model_name": "LayoutModel",
          "model_module_version": "1.2.0",
          "state": {
            "_model_module": "@jupyter-widgets/base",
            "_model_module_version": "1.2.0",
            "_model_name": "LayoutModel",
            "_view_count": null,
            "_view_module": "@jupyter-widgets/base",
            "_view_module_version": "1.2.0",
            "_view_name": "LayoutView",
            "align_content": null,
            "align_items": null,
            "align_self": null,
            "border": null,
            "bottom": null,
            "display": null,
            "flex": null,
            "flex_flow": null,
            "grid_area": null,
            "grid_auto_columns": null,
            "grid_auto_flow": null,
            "grid_auto_rows": null,
            "grid_column": null,
            "grid_gap": null,
            "grid_row": null,
            "grid_template_areas": null,
            "grid_template_columns": null,
            "grid_template_rows": null,
            "height": null,
            "justify_content": null,
            "justify_items": null,
            "left": null,
            "margin": null,
            "max_height": null,
            "max_width": null,
            "min_height": null,
            "min_width": null,
            "object_fit": null,
            "object_position": null,
            "order": null,
            "overflow": null,
            "overflow_x": null,
            "overflow_y": null,
            "padding": null,
            "right": null,
            "top": null,
            "visibility": null,
            "width": null
          }
        },
        "b9d975647a5c4e21b742bd1a7c6b00e5": {
          "model_module": "@jupyter-widgets/controls",
          "model_name": "ProgressStyleModel",
          "model_module_version": "1.5.0",
          "state": {
            "_model_module": "@jupyter-widgets/controls",
            "_model_module_version": "1.5.0",
            "_model_name": "ProgressStyleModel",
            "_view_count": null,
            "_view_module": "@jupyter-widgets/base",
            "_view_module_version": "1.2.0",
            "_view_name": "StyleView",
            "bar_color": null,
            "description_width": ""
          }
        },
        "22537ac77b274da19521eb245637de56": {
          "model_module": "@jupyter-widgets/base",
          "model_name": "LayoutModel",
          "model_module_version": "1.2.0",
          "state": {
            "_model_module": "@jupyter-widgets/base",
            "_model_module_version": "1.2.0",
            "_model_name": "LayoutModel",
            "_view_count": null,
            "_view_module": "@jupyter-widgets/base",
            "_view_module_version": "1.2.0",
            "_view_name": "LayoutView",
            "align_content": null,
            "align_items": null,
            "align_self": null,
            "border": null,
            "bottom": null,
            "display": null,
            "flex": null,
            "flex_flow": null,
            "grid_area": null,
            "grid_auto_columns": null,
            "grid_auto_flow": null,
            "grid_auto_rows": null,
            "grid_column": null,
            "grid_gap": null,
            "grid_row": null,
            "grid_template_areas": null,
            "grid_template_columns": null,
            "grid_template_rows": null,
            "height": null,
            "justify_content": null,
            "justify_items": null,
            "left": null,
            "margin": null,
            "max_height": null,
            "max_width": null,
            "min_height": null,
            "min_width": null,
            "object_fit": null,
            "object_position": null,
            "order": null,
            "overflow": null,
            "overflow_x": null,
            "overflow_y": null,
            "padding": null,
            "right": null,
            "top": null,
            "visibility": null,
            "width": null
          }
        },
        "4c9e3efed7724b1691b91b026193b04c": {
          "model_module": "@jupyter-widgets/controls",
          "model_name": "DescriptionStyleModel",
          "model_module_version": "1.5.0",
          "state": {
            "_model_module": "@jupyter-widgets/controls",
            "_model_module_version": "1.5.0",
            "_model_name": "DescriptionStyleModel",
            "_view_count": null,
            "_view_module": "@jupyter-widgets/base",
            "_view_module_version": "1.2.0",
            "_view_name": "StyleView",
            "description_width": ""
          }
        },
        "af5e5b46d75c4235a57e4332f332aeb7": {
          "model_module": "@jupyter-widgets/base",
          "model_name": "LayoutModel",
          "model_module_version": "1.2.0",
          "state": {
            "_model_module": "@jupyter-widgets/base",
            "_model_module_version": "1.2.0",
            "_model_name": "LayoutModel",
            "_view_count": null,
            "_view_module": "@jupyter-widgets/base",
            "_view_module_version": "1.2.0",
            "_view_name": "LayoutView",
            "align_content": null,
            "align_items": null,
            "align_self": null,
            "border": null,
            "bottom": null,
            "display": null,
            "flex": null,
            "flex_flow": null,
            "grid_area": null,
            "grid_auto_columns": null,
            "grid_auto_flow": null,
            "grid_auto_rows": null,
            "grid_column": null,
            "grid_gap": null,
            "grid_row": null,
            "grid_template_areas": null,
            "grid_template_columns": null,
            "grid_template_rows": null,
            "height": null,
            "justify_content": null,
            "justify_items": null,
            "left": null,
            "margin": null,
            "max_height": null,
            "max_width": null,
            "min_height": null,
            "min_width": null,
            "object_fit": null,
            "object_position": null,
            "order": null,
            "overflow": null,
            "overflow_x": null,
            "overflow_y": null,
            "padding": null,
            "right": null,
            "top": null,
            "visibility": null,
            "width": null
          }
        },
        "f6025e0c20ec4cb690f9e02a85f91aac": {
          "model_module": "@jupyter-widgets/controls",
          "model_name": "DescriptionStyleModel",
          "model_module_version": "1.5.0",
          "state": {
            "_model_module": "@jupyter-widgets/controls",
            "_model_module_version": "1.5.0",
            "_model_name": "DescriptionStyleModel",
            "_view_count": null,
            "_view_module": "@jupyter-widgets/base",
            "_view_module_version": "1.2.0",
            "_view_name": "StyleView",
            "description_width": ""
          }
        },
        "2cec97ca33844e3caf981268fbd6f277": {
          "model_module": "@jupyter-widgets/controls",
          "model_name": "HTMLModel",
          "model_module_version": "1.5.0",
          "state": {
            "_dom_classes": [],
            "_model_module": "@jupyter-widgets/controls",
            "_model_module_version": "1.5.0",
            "_model_name": "HTMLModel",
            "_view_count": null,
            "_view_module": "@jupyter-widgets/controls",
            "_view_module_version": "1.5.0",
            "_view_name": "HTMLView",
            "description": "",
            "description_tooltip": null,
            "layout": "IPY_MODEL_22537ac77b274da19521eb245637de56",
            "placeholder": "​",
            "style": "IPY_MODEL_4c9e3efed7724b1691b91b026193b04c",
            "value": "Processing: 100%"
          }
        },
        "8414f0892f5449b8a43e1f1c70e95762": {
          "model_module": "@jupyter-widgets/controls",
          "model_name": "FloatProgressModel",
          "model_module_version": "1.5.0",
          "state": {
            "_dom_classes": [],
            "_model_module": "@jupyter-widgets/controls",
            "_model_module_version": "1.5.0",
            "_model_name": "FloatProgressModel",
            "_view_count": null,
            "_view_module": "@jupyter-widgets/controls",
            "_view_module_version": "1.5.0",
            "_view_name": "ProgressView",
            "bar_style": "",
            "description": "",
            "description_tooltip": null,
            "layout": "IPY_MODEL_7cafe1e0b8494b0b8e202cd040d63e72",
            "max": 4,
            "min": 0,
            "orientation": "horizontal",
            "style": "IPY_MODEL_b9d975647a5c4e21b742bd1a7c6b00e5",
            "value": 4
          }
        },
        "d36c050212c746debe02d690b80dfc11": {
          "model_module": "@jupyter-widgets/controls",
          "model_name": "HTMLModel",
          "model_module_version": "1.5.0",
          "state": {
            "_dom_classes": [],
            "_model_module": "@jupyter-widgets/controls",
            "_model_module_version": "1.5.0",
            "_model_name": "HTMLModel",
            "_view_count": null,
            "_view_module": "@jupyter-widgets/controls",
            "_view_module_version": "1.5.0",
            "_view_name": "HTMLView",
            "description": "",
            "description_tooltip": null,
            "layout": "IPY_MODEL_af5e5b46d75c4235a57e4332f332aeb7",
            "placeholder": "​",
            "style": "IPY_MODEL_f6025e0c20ec4cb690f9e02a85f91aac",
            "value": " 4/4 [00:38&lt;00:00,  8.79s/it]"
          }
        },
        "36f32ba4ddce45718a2aa466ecefbdc9": {
          "model_module": "@jupyter-widgets/base",
          "model_name": "LayoutModel",
          "model_module_version": "1.2.0",
          "state": {
            "_model_module": "@jupyter-widgets/base",
            "_model_module_version": "1.2.0",
            "_model_name": "LayoutModel",
            "_view_count": null,
            "_view_module": "@jupyter-widgets/base",
            "_view_module_version": "1.2.0",
            "_view_name": "LayoutView",
            "align_content": null,
            "align_items": null,
            "align_self": null,
            "border": null,
            "bottom": null,
            "display": null,
            "flex": null,
            "flex_flow": null,
            "grid_area": null,
            "grid_auto_columns": null,
            "grid_auto_flow": null,
            "grid_auto_rows": null,
            "grid_column": null,
            "grid_gap": null,
            "grid_row": null,
            "grid_template_areas": null,
            "grid_template_columns": null,
            "grid_template_rows": null,
            "height": null,
            "justify_content": null,
            "justify_items": null,
            "left": null,
            "margin": null,
            "max_height": null,
            "max_width": null,
            "min_height": null,
            "min_width": null,
            "object_fit": null,
            "object_position": null,
            "order": null,
            "overflow": null,
            "overflow_x": null,
            "overflow_y": null,
            "padding": null,
            "right": null,
            "top": null,
            "visibility": "hidden",
            "width": null
          }
        },
        "ecf31a8b6d024a39adb48db8a557d380": {
          "model_module": "@jupyter-widgets/controls",
          "model_name": "HBoxModel",
          "model_module_version": "1.5.0",
          "state": {
            "_dom_classes": [],
            "_model_module": "@jupyter-widgets/controls",
            "_model_module_version": "1.5.0",
            "_model_name": "HBoxModel",
            "_view_count": null,
            "_view_module": "@jupyter-widgets/controls",
            "_view_module_version": "1.5.0",
            "_view_name": "HBoxView",
            "box_style": "",
            "children": [
              "IPY_MODEL_2cec97ca33844e3caf981268fbd6f277",
              "IPY_MODEL_8414f0892f5449b8a43e1f1c70e95762",
              "IPY_MODEL_d36c050212c746debe02d690b80dfc11"
            ],
            "layout": "IPY_MODEL_36f32ba4ddce45718a2aa466ecefbdc9"
          }
        },
        "71dbe176b11949f6a5bfd71633108e90": {
          "model_module": "@jupyter-widgets/base",
          "model_name": "LayoutModel",
          "model_module_version": "1.2.0",
          "state": {
            "_model_module": "@jupyter-widgets/base",
            "_model_module_version": "1.2.0",
            "_model_name": "LayoutModel",
            "_view_count": null,
            "_view_module": "@jupyter-widgets/base",
            "_view_module_version": "1.2.0",
            "_view_name": "LayoutView",
            "align_content": null,
            "align_items": null,
            "align_self": null,
            "border": null,
            "bottom": null,
            "display": null,
            "flex": null,
            "flex_flow": null,
            "grid_area": null,
            "grid_auto_columns": null,
            "grid_auto_flow": null,
            "grid_auto_rows": null,
            "grid_column": null,
            "grid_gap": null,
            "grid_row": null,
            "grid_template_areas": null,
            "grid_template_columns": null,
            "grid_template_rows": null,
            "height": null,
            "justify_content": null,
            "justify_items": null,
            "left": null,
            "margin": null,
            "max_height": null,
            "max_width": null,
            "min_height": null,
            "min_width": null,
            "object_fit": null,
            "object_position": null,
            "order": null,
            "overflow": null,
            "overflow_x": null,
            "overflow_y": null,
            "padding": null,
            "right": null,
            "top": null,
            "visibility": null,
            "width": null
          }
        },
        "25e134536e6e4c1aa6bb86d0e7a22fa6": {
          "model_module": "@jupyter-widgets/controls",
          "model_name": "ToggleButtonsStyleModel",
          "model_module_version": "1.5.0",
          "state": {
            "_model_module": "@jupyter-widgets/controls",
            "_model_module_version": "1.5.0",
            "_model_name": "ToggleButtonsStyleModel",
            "_view_count": null,
            "_view_module": "@jupyter-widgets/base",
            "_view_module_version": "1.2.0",
            "_view_name": "StyleView",
            "button_width": "",
            "description_width": "",
            "font_weight": ""
          }
        },
        "29dbd5b3798f473188df6224ca2fe2ae": {
          "model_module": "@jupyter-widgets/base",
          "model_name": "LayoutModel",
          "model_module_version": "1.2.0",
          "state": {
            "_model_module": "@jupyter-widgets/base",
            "_model_module_version": "1.2.0",
            "_model_name": "LayoutModel",
            "_view_count": null,
            "_view_module": "@jupyter-widgets/base",
            "_view_module_version": "1.2.0",
            "_view_name": "LayoutView",
            "align_content": null,
            "align_items": null,
            "align_self": null,
            "border": null,
            "bottom": null,
            "display": null,
            "flex": null,
            "flex_flow": null,
            "grid_area": null,
            "grid_auto_columns": null,
            "grid_auto_flow": null,
            "grid_auto_rows": null,
            "grid_column": null,
            "grid_gap": null,
            "grid_row": null,
            "grid_template_areas": null,
            "grid_template_columns": null,
            "grid_template_rows": null,
            "height": null,
            "justify_content": null,
            "justify_items": null,
            "left": null,
            "margin": null,
            "max_height": null,
            "max_width": null,
            "min_height": null,
            "min_width": null,
            "object_fit": null,
            "object_position": null,
            "order": null,
            "overflow": null,
            "overflow_x": null,
            "overflow_y": null,
            "padding": null,
            "right": null,
            "top": null,
            "visibility": null,
            "width": null
          }
        },
        "f32d5930b87e42bebaed790834680a5c": {
          "model_module": "@jupyter-widgets/base",
          "model_name": "LayoutModel",
          "model_module_version": "1.2.0",
          "state": {
            "_model_module": "@jupyter-widgets/base",
            "_model_module_version": "1.2.0",
            "_model_name": "LayoutModel",
            "_view_count": null,
            "_view_module": "@jupyter-widgets/base",
            "_view_module_version": "1.2.0",
            "_view_name": "LayoutView",
            "align_content": null,
            "align_items": null,
            "align_self": null,
            "border": null,
            "bottom": null,
            "display": null,
            "flex": null,
            "flex_flow": null,
            "grid_area": null,
            "grid_auto_columns": null,
            "grid_auto_flow": null,
            "grid_auto_rows": null,
            "grid_column": null,
            "grid_gap": null,
            "grid_row": null,
            "grid_template_areas": null,
            "grid_template_columns": null,
            "grid_template_rows": null,
            "height": null,
            "justify_content": null,
            "justify_items": null,
            "left": null,
            "margin": null,
            "max_height": null,
            "max_width": null,
            "min_height": null,
            "min_width": null,
            "object_fit": null,
            "object_position": null,
            "order": null,
            "overflow": null,
            "overflow_x": null,
            "overflow_y": null,
            "padding": null,
            "right": null,
            "top": null,
            "visibility": null,
            "width": null
          }
        },
        "31a6757fb47b49da93161c9c72a6fefa": {
          "model_module": "@jupyter-widgets/controls",
          "model_name": "VBoxModel",
          "model_module_version": "1.5.0",
          "state": {
            "_dom_classes": [
              "widget-interact"
            ],
            "_model_module": "@jupyter-widgets/controls",
            "_model_module_version": "1.5.0",
            "_model_name": "VBoxModel",
            "_view_count": null,
            "_view_module": "@jupyter-widgets/controls",
            "_view_module_version": "1.5.0",
            "_view_name": "VBoxView",
            "box_style": "",
            "children": [
              "IPY_MODEL_dba66edc84e84010a8df3ad20589c740",
              "IPY_MODEL_5e84d1733ae7428d9ebd8fce2b7bb0a9"
            ],
            "layout": "IPY_MODEL_29dbd5b3798f473188df6224ca2fe2ae"
          }
        },
        "dba66edc84e84010a8df3ad20589c740": {
          "model_module": "@jupyter-widgets/controls",
          "model_name": "ToggleButtonsModel",
          "model_module_version": "1.5.0",
          "state": {
            "_dom_classes": [],
            "_model_module": "@jupyter-widgets/controls",
            "_model_module_version": "1.5.0",
            "_model_name": "ToggleButtonsModel",
            "_options_labels": [
              "Pipeline Plot",
              "Hyperparameters",
              "AUC",
              "Confusion Matrix",
              "Threshold",
              "Precision Recall",
              "Prediction Error",
              "Class Report",
              "Feature Selection",
              "Learning Curve",
              "Manifold Learning",
              "Calibration Curve",
              "Validation Curve",
              "Dimensions",
              "Feature Importance",
              "Feature Importance (All)",
              "Decision Boundary",
              "Lift Chart",
              "Gain Chart",
              "Decision Tree",
              "KS Statistic Plot"
            ],
            "_view_count": null,
            "_view_module": "@jupyter-widgets/controls",
            "_view_module_version": "1.5.0",
            "_view_name": "ToggleButtonsView",
            "button_style": "",
            "description": "Plot Type:",
            "description_tooltip": null,
            "disabled": false,
            "icons": [
              ""
            ],
            "index": 0,
            "layout": "IPY_MODEL_71dbe176b11949f6a5bfd71633108e90",
            "style": "IPY_MODEL_25e134536e6e4c1aa6bb86d0e7a22fa6",
            "tooltips": []
          }
        },
        "5e84d1733ae7428d9ebd8fce2b7bb0a9": {
          "model_module": "@jupyter-widgets/output",
          "model_name": "OutputModel",
          "model_module_version": "1.0.0",
          "state": {
            "_dom_classes": [],
            "_model_module": "@jupyter-widgets/output",
            "_model_module_version": "1.0.0",
            "_model_name": "OutputModel",
            "_view_count": null,
            "_view_module": "@jupyter-widgets/output",
            "_view_module_version": "1.0.0",
            "_view_name": "OutputView",
            "layout": "IPY_MODEL_f32d5930b87e42bebaed790834680a5c",
            "msg_id": "",
            "outputs": []
          }
        }
      }
    }
  },
  "nbformat": 4,
  "nbformat_minor": 0
}